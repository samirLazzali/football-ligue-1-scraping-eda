{
 "cells": [
  {
   "cell_type": "code",
   "execution_count": 435,
   "metadata": {
    "scrolled": false
   },
   "outputs": [
    {
     "name": "stdout",
     "output_type": "stream",
     "text": [
      "/home/sam/Documents/cours/python/football-ligue-1-scraping-eda-master/exctract_enrichies.csv\n",
      "(5972, 17)\n",
      "date                 object\n",
      "day                  object\n",
      "hours                object\n",
      "odds_a              float64\n",
      "odds_b              float64\n",
      "odds_draw           float64\n",
      "score_a               int64\n",
      "score_b               int64\n",
      "season               object\n",
      "team_a               object\n",
      "team_b               object\n",
      "outcome_effectif     object\n",
      "min_odds             object\n",
      "max_odds             object\n",
      "good_pred             int64\n",
      "worst_pred            int64\n",
      "draw_pred             int64\n",
      "dtype: object\n"
     ]
    },
    {
     "data": {
      "text/html": [
       "<div>\n",
       "<style scoped>\n",
       "    .dataframe tbody tr th:only-of-type {\n",
       "        vertical-align: middle;\n",
       "    }\n",
       "\n",
       "    .dataframe tbody tr th {\n",
       "        vertical-align: top;\n",
       "    }\n",
       "\n",
       "    .dataframe thead th {\n",
       "        text-align: right;\n",
       "    }\n",
       "</style>\n",
       "<table border=\"1\" class=\"dataframe\">\n",
       "  <thead>\n",
       "    <tr style=\"text-align: right;\">\n",
       "      <th></th>\n",
       "      <th>date</th>\n",
       "      <th>day</th>\n",
       "      <th>hours</th>\n",
       "      <th>odds_a</th>\n",
       "      <th>odds_b</th>\n",
       "      <th>odds_draw</th>\n",
       "      <th>score_a</th>\n",
       "      <th>score_b</th>\n",
       "      <th>season</th>\n",
       "      <th>team_a</th>\n",
       "      <th>team_b</th>\n",
       "      <th>outcome_effectif</th>\n",
       "      <th>min_odds</th>\n",
       "      <th>max_odds</th>\n",
       "      <th>good_pred</th>\n",
       "      <th>worst_pred</th>\n",
       "      <th>draw_pred</th>\n",
       "    </tr>\n",
       "  </thead>\n",
       "  <tbody>\n",
       "    <tr>\n",
       "      <th>0</th>\n",
       "      <td>2019-11-10 14:00:00</td>\n",
       "      <td>Sunday</td>\n",
       "      <td>14:00</td>\n",
       "      <td>2.08</td>\n",
       "      <td>3.83</td>\n",
       "      <td>3.29</td>\n",
       "      <td>3</td>\n",
       "      <td>1</td>\n",
       "      <td>2019/2020</td>\n",
       "      <td>Rennes</td>\n",
       "      <td>Amiens</td>\n",
       "      <td>HOME</td>\n",
       "      <td>HOME</td>\n",
       "      <td>AWAY</td>\n",
       "      <td>1</td>\n",
       "      <td>0</td>\n",
       "      <td>0</td>\n",
       "    </tr>\n",
       "    <tr>\n",
       "      <th>1</th>\n",
       "      <td>2019-11-09 19:00:00</td>\n",
       "      <td>Saturday</td>\n",
       "      <td>19:00</td>\n",
       "      <td>1.54</td>\n",
       "      <td>7.27</td>\n",
       "      <td>3.89</td>\n",
       "      <td>0</td>\n",
       "      <td>0</td>\n",
       "      <td>2019/2020</td>\n",
       "      <td>Lille</td>\n",
       "      <td>Metz</td>\n",
       "      <td>DRAW</td>\n",
       "      <td>HOME</td>\n",
       "      <td>AWAY</td>\n",
       "      <td>0</td>\n",
       "      <td>0</td>\n",
       "      <td>1</td>\n",
       "    </tr>\n",
       "    <tr>\n",
       "      <th>2</th>\n",
       "      <td>2019-11-09 19:00:00</td>\n",
       "      <td>Saturday</td>\n",
       "      <td>19:00</td>\n",
       "      <td>1.42</td>\n",
       "      <td>7.32</td>\n",
       "      <td>4.86</td>\n",
       "      <td>1</td>\n",
       "      <td>0</td>\n",
       "      <td>2019/2020</td>\n",
       "      <td>Monaco</td>\n",
       "      <td>Dijon</td>\n",
       "      <td>HOME</td>\n",
       "      <td>HOME</td>\n",
       "      <td>AWAY</td>\n",
       "      <td>1</td>\n",
       "      <td>0</td>\n",
       "      <td>0</td>\n",
       "    </tr>\n",
       "    <tr>\n",
       "      <th>3</th>\n",
       "      <td>2019-11-09 19:00:00</td>\n",
       "      <td>Saturday</td>\n",
       "      <td>19:00</td>\n",
       "      <td>2.63</td>\n",
       "      <td>3.07</td>\n",
       "      <td>2.97</td>\n",
       "      <td>0</td>\n",
       "      <td>0</td>\n",
       "      <td>2019/2020</td>\n",
       "      <td>Reims</td>\n",
       "      <td>Angers</td>\n",
       "      <td>DRAW</td>\n",
       "      <td>HOME</td>\n",
       "      <td>AWAY</td>\n",
       "      <td>0</td>\n",
       "      <td>0</td>\n",
       "      <td>1</td>\n",
       "    </tr>\n",
       "    <tr>\n",
       "      <th>4</th>\n",
       "      <td>2019-11-09 19:00:00</td>\n",
       "      <td>Saturday</td>\n",
       "      <td>19:00</td>\n",
       "      <td>1.83</td>\n",
       "      <td>4.83</td>\n",
       "      <td>3.44</td>\n",
       "      <td>4</td>\n",
       "      <td>1</td>\n",
       "      <td>2019/2020</td>\n",
       "      <td>Strasbourg</td>\n",
       "      <td>Nimes</td>\n",
       "      <td>HOME</td>\n",
       "      <td>HOME</td>\n",
       "      <td>AWAY</td>\n",
       "      <td>1</td>\n",
       "      <td>0</td>\n",
       "      <td>0</td>\n",
       "    </tr>\n",
       "  </tbody>\n",
       "</table>\n",
       "</div>"
      ],
      "text/plain": [
       "                  date       day  hours  odds_a  odds_b  odds_draw  score_a  \\\n",
       "0  2019-11-10 14:00:00    Sunday  14:00    2.08    3.83       3.29        3   \n",
       "1  2019-11-09 19:00:00  Saturday  19:00    1.54    7.27       3.89        0   \n",
       "2  2019-11-09 19:00:00  Saturday  19:00    1.42    7.32       4.86        1   \n",
       "3  2019-11-09 19:00:00  Saturday  19:00    2.63    3.07       2.97        0   \n",
       "4  2019-11-09 19:00:00  Saturday  19:00    1.83    4.83       3.44        4   \n",
       "\n",
       "   score_b     season      team_a  team_b outcome_effectif min_odds max_odds  \\\n",
       "0        1  2019/2020      Rennes  Amiens             HOME     HOME     AWAY   \n",
       "1        0  2019/2020       Lille    Metz             DRAW     HOME     AWAY   \n",
       "2        0  2019/2020      Monaco   Dijon             HOME     HOME     AWAY   \n",
       "3        0  2019/2020       Reims  Angers             DRAW     HOME     AWAY   \n",
       "4        1  2019/2020  Strasbourg   Nimes             HOME     HOME     AWAY   \n",
       "\n",
       "   good_pred  worst_pred  draw_pred  \n",
       "0          1           0          0  \n",
       "1          0           0          1  \n",
       "2          1           0          0  \n",
       "3          0           0          1  \n",
       "4          1           0          0  "
      ]
     },
     "execution_count": 435,
     "metadata": {},
     "output_type": "execute_result"
    }
   ],
   "source": [
    "import pandas as pd\n",
    "import matplotlib.pyplot as plt\n",
    "import numpy as np\n",
    "import seaborn\n",
    "from scipy.stats import poisson,skellam\n",
    "import os\n",
    "import sys\n",
    "%matplotlib inline\n",
    "plt.style.use('seaborn-whitegrid') # theme\n",
    "plt.rcParams['figure.figsize'] = (12,8) # taille des figures\n",
    "\n",
    "package_dir = os.path.dirname(os.path.abspath(sys.argv[1]))\n",
    "file_name = \"exctract_enrichies\"\n",
    "thefile = os.path.join(package_dir, file_name+'.csv')\n",
    "print(thefile)\n",
    "\n",
    "ext = pd.read_csv(thefile)\n",
    "print(ext.shape)\n",
    "print(ext.dtypes)\n",
    "ext.head()\n",
    "\n",
    "# Creer une catégorie gain : ['bmkr_gain', 'null_gain', 'max_gain']\n",
    "\n",
    "# 13 \t1 \t2019-10-19 19:00:00 \tSaturday \t19:00 \t1.62 \t6.20 \t3.77 \tAWAY \tAWAY \t0 \t0 \t1 \t2019/2020 \tAngers \tBrest"
   ]
  },
  {
   "cell_type": "code",
   "execution_count": 91,
   "metadata": {},
   "outputs": [
    {
     "data": {
      "text/html": [
       "<div>\n",
       "<style scoped>\n",
       "    .dataframe tbody tr th:only-of-type {\n",
       "        vertical-align: middle;\n",
       "    }\n",
       "\n",
       "    .dataframe tbody tr th {\n",
       "        vertical-align: top;\n",
       "    }\n",
       "\n",
       "    .dataframe thead th {\n",
       "        text-align: right;\n",
       "    }\n",
       "</style>\n",
       "<table border=\"1\" class=\"dataframe\">\n",
       "  <thead>\n",
       "    <tr style=\"text-align: right;\">\n",
       "      <th></th>\n",
       "      <th>odds_a</th>\n",
       "      <th>odds_b</th>\n",
       "      <th>odds_draw</th>\n",
       "      <th>score_a</th>\n",
       "      <th>score_b</th>\n",
       "    </tr>\n",
       "  </thead>\n",
       "  <tbody>\n",
       "    <tr>\n",
       "      <th>count</th>\n",
       "      <td>5956.000000</td>\n",
       "      <td>5956.000000</td>\n",
       "      <td>5956.000000</td>\n",
       "      <td>5956.000000</td>\n",
       "      <td>5956.000000</td>\n",
       "    </tr>\n",
       "    <tr>\n",
       "      <th>mean</th>\n",
       "      <td>2.405693</td>\n",
       "      <td>4.409426</td>\n",
       "      <td>3.463326</td>\n",
       "      <td>1.404634</td>\n",
       "      <td>1.011921</td>\n",
       "    </tr>\n",
       "    <tr>\n",
       "      <th>std</th>\n",
       "      <td>1.323759</td>\n",
       "      <td>2.960352</td>\n",
       "      <td>0.951389</td>\n",
       "      <td>1.200674</td>\n",
       "      <td>1.052617</td>\n",
       "    </tr>\n",
       "    <tr>\n",
       "      <th>min</th>\n",
       "      <td>1.040000</td>\n",
       "      <td>1.110000</td>\n",
       "      <td>2.380000</td>\n",
       "      <td>0.000000</td>\n",
       "      <td>0.000000</td>\n",
       "    </tr>\n",
       "    <tr>\n",
       "      <th>25%</th>\n",
       "      <td>1.740000</td>\n",
       "      <td>2.820000</td>\n",
       "      <td>3.040000</td>\n",
       "      <td>1.000000</td>\n",
       "      <td>0.000000</td>\n",
       "    </tr>\n",
       "    <tr>\n",
       "      <th>50%</th>\n",
       "      <td>2.115000</td>\n",
       "      <td>3.670000</td>\n",
       "      <td>3.200000</td>\n",
       "      <td>1.000000</td>\n",
       "      <td>1.000000</td>\n",
       "    </tr>\n",
       "    <tr>\n",
       "      <th>75%</th>\n",
       "      <td>2.610000</td>\n",
       "      <td>5.050000</td>\n",
       "      <td>3.502500</td>\n",
       "      <td>2.000000</td>\n",
       "      <td>2.000000</td>\n",
       "    </tr>\n",
       "    <tr>\n",
       "      <th>max</th>\n",
       "      <td>28.980000</td>\n",
       "      <td>48.260000</td>\n",
       "      <td>18.070000</td>\n",
       "      <td>9.000000</td>\n",
       "      <td>9.000000</td>\n",
       "    </tr>\n",
       "  </tbody>\n",
       "</table>\n",
       "</div>"
      ],
      "text/plain": [
       "            odds_a       odds_b    odds_draw      score_a      score_b\n",
       "count  5956.000000  5956.000000  5956.000000  5956.000000  5956.000000\n",
       "mean      2.405693     4.409426     3.463326     1.404634     1.011921\n",
       "std       1.323759     2.960352     0.951389     1.200674     1.052617\n",
       "min       1.040000     1.110000     2.380000     0.000000     0.000000\n",
       "25%       1.740000     2.820000     3.040000     1.000000     0.000000\n",
       "50%       2.115000     3.670000     3.200000     1.000000     1.000000\n",
       "75%       2.610000     5.050000     3.502500     2.000000     2.000000\n",
       "max      28.980000    48.260000    18.070000     9.000000     9.000000"
      ]
     },
     "execution_count": 91,
     "metadata": {},
     "output_type": "execute_result"
    }
   ],
   "source": [
    "ext.describe()"
   ]
  },
  {
   "cell_type": "code",
   "execution_count": 437,
   "metadata": {
    "scrolled": true
   },
   "outputs": [
    {
     "name": "stdout",
     "output_type": "stream",
     "text": [
      "count    5972.000000\n",
      "mean        0.210817\n",
      "std         0.407923\n",
      "min         0.000000\n",
      "25%         0.000000\n",
      "50%         0.000000\n",
      "75%         0.000000\n",
      "max         1.000000\n",
      "Name: worst_pred, dtype: float64\n"
     ]
    },
    {
     "data": {
      "text/plain": [
       "<matplotlib.axes._subplots.AxesSubplot at 0x7f9a5afbe358>"
      ]
     },
     "execution_count": 437,
     "metadata": {},
     "output_type": "execute_result"
    },
    {
     "data": {
      "image/png": "[encoded data removed]",
      "text/plain": [
       "<Figure size 864x576 with 1 Axes>"
      ]
     },
     "metadata": {},
     "output_type": "display_data"
    }
   ],
   "source": [
    "#bmkr_loss\n",
    "print(ext.worst_pred.describe())\n",
    "ext.worst_pred.hist(bins=2)\n",
    "#En moyenne le booky se trombe dans 20% des cas "
   ]
  },
  {
   "cell_type": "code",
   "execution_count": 440,
   "metadata": {},
   "outputs": [
    {
     "name": "stdout",
     "output_type": "stream",
     "text": [
      "1.0\n"
     ]
    }
   ],
   "source": [
    "#print(ext.draw_pred.describe()) #mean        0.288178\n",
    "#print(ext.worst_pred.describe()) #mean         0.210817\n",
    "#print(ext.good_pred.describe()) #mean        0.501005\n",
    "print(0.288178 +  0.210817 +  0.501005)"
   ]
  },
  {
   "cell_type": "code",
   "execution_count": 442,
   "metadata": {},
   "outputs": [
    {
     "data": {
      "text/plain": [
       "<matplotlib.axes._subplots.AxesSubplot at 0x7f9a5b210390>"
      ]
     },
     "execution_count": 442,
     "metadata": {},
     "output_type": "execute_result"
    },
    {
     "data": {
      "image/png": "[encoded data removed]",
      "text/plain": [
       "<Figure size 864x576 with 1 Axes>"
      ]
     },
     "metadata": {},
     "output_type": "display_data"
    }
   ],
   "source": [
    "# distribution des heurs des matches\n",
    "ext['hours'].value_counts(normalize=True).plot(kind='bar')"
   ]
  },
  {
   "cell_type": "code",
   "execution_count": 443,
   "metadata": {},
   "outputs": [
    {
     "data": {
      "text/plain": [
       "<matplotlib.axes._subplots.AxesSubplot at 0x7f9a5b462d30>"
      ]
     },
     "execution_count": 443,
     "metadata": {},
     "output_type": "execute_result"
    },
    {
     "data": {
      "image/png": "[encoded data removed]",
      "text/plain": [
       "<Figure size 864x576 with 1 Axes>"
      ]
     },
     "metadata": {},
     "output_type": "display_data"
    }
   ],
   "source": [
    "ext['day'].value_counts(normalize=True).plot(kind='bar')"
   ]
  },
  {
   "cell_type": "code",
   "execution_count": 445,
   "metadata": {},
   "outputs": [
    {
     "data": {
      "text/plain": [
       "<matplotlib.axes._subplots.AxesSubplot at 0x7f9a5b317668>"
      ]
     },
     "execution_count": 445,
     "metadata": {},
     "output_type": "execute_result"
    },
    {
     "data": {
      "image/png": "[encoded data removed]",
      "text/plain": [
       "<Figure size 864x576 with 1 Axes>"
      ]
     },
     "metadata": {},
     "output_type": "display_data"
    }
   ],
   "source": [
    "ext.head(5)\n",
    "ext['outcome_effectif'].value_counts(normalize=True).plot(kind='pie')"
   ]
  },
  {
   "cell_type": "code",
   "execution_count": 451,
   "metadata": {},
   "outputs": [
    {
     "data": {
      "text/plain": [
       "<matplotlib.axes._subplots.AxesSubplot at 0x7f9a5adba748>"
      ]
     },
     "execution_count": 451,
     "metadata": {},
     "output_type": "execute_result"
    },
    {
     "data": {
      "image/png": "[encoded data removed]",
      "text/plain": [
       "<Figure size 864x576 with 1 Axes>"
      ]
     },
     "metadata": {},
     "output_type": "display_data"
    }
   ],
   "source": [
    "ext.head(5)\n",
    "# pred du bookmaker\n",
    "ext['min_odds'].value_counts(normalize=True).plot(kind='pie')\n"
   ]
  },
  {
   "cell_type": "code",
   "execution_count": 510,
   "metadata": {},
   "outputs": [
    {
     "name": "stdout",
     "output_type": "stream",
     "text": [
      "HOME    0.739476\n",
      "AWAY    0.260524\n",
      "Name: min_odds, dtype: float64\n"
     ]
    },
    {
     "data": {
      "text/plain": [
       "<matplotlib.axes._subplots.AxesSubplot at 0x7f9a5a68dc50>"
      ]
     },
     "execution_count": 510,
     "metadata": {},
     "output_type": "execute_result"
    },
    {
     "data": {
      "image/png": "[encoded data removed]",
      "text/plain": [
       "<Figure size 864x576 with 1 Axes>"
      ]
     },
     "metadata": {},
     "output_type": "display_data"
    }
   ],
   "source": [
    "# quand le bookmaker se trompe, qui avait il mit gagnant ?\n",
    "print(ext[ext.worst_pred == 1]['min_odds'].value_counts(normalize=True))\n",
    "# Il semblerait que le bookmaker ne se soit jamais trompé sur les match null \n",
    "ext[ext.worst_pred == 1]['min_odds'].value_counts(normalize=True).plot(kind='pie')\n"
   ]
  },
  {
   "cell_type": "code",
   "execution_count": 481,
   "metadata": {},
   "outputs": [
    {
     "data": {
      "text/plain": [
       "season\n",
       "2008/2009    2\n",
       "2012/2013    1\n",
       "2015/2016    1\n",
       "2017/2018    1\n",
       "dtype: int64"
      ]
     },
     "execution_count": 481,
     "metadata": {},
     "output_type": "execute_result"
    }
   ],
   "source": [
    "#Combien le booki a t il prévu de null \n",
    "ext[ext.min_odds == 'DRAW'].groupby('season').size()"
   ]
  },
  {
   "cell_type": "code",
   "execution_count": 506,
   "metadata": {},
   "outputs": [
    {
     "data": {
      "text/plain": [
       "<matplotlib.axes._subplots.AxesSubplot at 0x7f9a5a7f7080>"
      ]
     },
     "execution_count": 506,
     "metadata": {},
     "output_type": "execute_result"
    },
    {
     "data": {
      "image/png": "[encoded data removed]",
      "text/plain": [
       "<Figure size 864x576 with 1 Axes>"
      ]
     },
     "metadata": {},
     "output_type": "display_data"
    }
   ],
   "source": [
    "# evolution du worst_pred au cours des saisons \n",
    "(ext[ext.worst_pred == 1].groupby('season').count()[1:-1].worst_pred / ext.groupby('season').count()[1:-1].worst_pred).plot()"
   ]
  },
  {
   "cell_type": "code",
   "execution_count": 512,
   "metadata": {},
   "outputs": [
    {
     "data": {
      "text/plain": [
       "<matplotlib.axes._subplots.AxesSubplot at 0x7f9a5a60a828>"
      ]
     },
     "execution_count": 512,
     "metadata": {},
     "output_type": "execute_result"
    },
    {
     "data": {
      "image/png": "[encoded data removed]",
      "text/plain": [
       "<Figure size 864x576 with 1 Axes>"
      ]
     },
     "metadata": {},
     "output_type": "display_data"
    }
   ],
   "source": [
    "# evolution du good_pred au cours des saisons \n",
    "(ext[ext.good_pred == 1].groupby('season').count()[1:-1].worst_pred / ext.groupby('season').count()[1:-1].worst_pred).plot()"
   ]
  },
  {
   "cell_type": "code",
   "execution_count": 543,
   "metadata": {},
   "outputs": [
    {
     "name": "stdout",
     "output_type": "stream",
     "text": [
      "0     2004/2005\n",
      "1     2005/2006\n",
      "2     2006/2007\n",
      "3     2007/2008\n",
      "4     2008/2009\n",
      "5     2009/2010\n",
      "6     2010/2011\n",
      "7     2011/2012\n",
      "8     2012/2013\n",
      "9     2013/2014\n",
      "10    2014/2015\n",
      "11    2015/2016\n",
      "12    2016/2017\n",
      "13    2017/2018\n",
      "14    2018/2019\n",
      "Name: season, dtype: object\n",
      "       season    counts\n",
      "0   2004/2005  0.466844\n",
      "1   2005/2006  0.474934\n",
      "2   2006/2007  0.486772\n",
      "3   2007/2008  0.476316\n",
      "4   2008/2009  0.500000\n",
      "5   2009/2010  0.511936\n",
      "6   2010/2011  0.450000\n",
      "7   2011/2012  0.507895\n",
      "8   2012/2013  0.521053\n",
      "9   2013/2014  0.530343\n",
      "10  2014/2015  0.539474\n",
      "11  2015/2016  0.490716\n",
      "12  2016/2017  0.535433\n",
      "13  2017/2018  0.549479\n",
      "14  2018/2019  0.476562\n"
     ]
    }
   ],
   "source": [
    "#plt.plot( 'x', 'y2', data=df, marker='', color='olive', linewidth=2)\n",
    "#plt.plot( 'x', 'y3', data=df, marker='', color='olive', linewidth=2, linestyle='dashed', label=\"toto\")\n",
    "#plt.legend()\n",
    "x = ext[ext.good_pred == 1].groupby('season').count()[1:-1].worst_pred.reset_index(name='counts')\n",
    "print(x['season'])\n",
    "y1 = (ext[ext.good_pred == 1].groupby('season').count()[1:-1].worst_pred / ext.groupby('season').count()[1:-1].worst_pred)\n",
    "print(y1.reset_index(name='counts_good_pred'))\n",
    "#plt.plot( 'x', 'y1', data=df, marker='o', markerfacecolor='blue', markersize=12, color='skyblue', linewidth=4)\n",
    "\n",
    "#.sort_values(by=['counts'],ascending=False)"
   ]
  },
  {
   "cell_type": "code",
   "execution_count": 177,
   "metadata": {},
   "outputs": [
    {
     "data": {
      "text/plain": [
       "<matplotlib.axes._subplots.AxesSubplot at 0x7f9a614a6588>"
      ]
     },
     "execution_count": 177,
     "metadata": {},
     "output_type": "execute_result"
    },
    {
     "data": {
      "image/png": "[encoded data removed]",
      "text/plain": [
       "<Figure size 864x576 with 1 Axes>"
      ]
     },
     "metadata": {},
     "output_type": "display_data"
    }
   ],
   "source": [
    "ext['team_a'].value_counts().plot(kind='bar')\n",
    "#ext['team_a'].value_counts(normalize=True).plot(kind='bar')"
   ]
  },
  {
   "cell_type": "code",
   "execution_count": 482,
   "metadata": {},
   "outputs": [
    {
     "data": {
      "text/plain": [
       "<matplotlib.axes._subplots.AxesSubplot at 0x7f9a5aa375f8>"
      ]
     },
     "execution_count": 482,
     "metadata": {},
     "output_type": "execute_result"
    },
    {
     "data": {
      "image/png": "[encoded data removed]",
      "text/plain": [
       "<Figure size 864x576 with 1 Axes>"
      ]
     },
     "metadata": {},
     "output_type": "display_data"
    }
   ],
   "source": [
    "ext[\"day\"].value_counts(normalize=True).plot(kind='pie')"
   ]
  },
  {
   "cell_type": "code",
   "execution_count": 485,
   "metadata": {},
   "outputs": [
    {
     "data": {
      "text/html": [
       "<div>\n",
       "<style scoped>\n",
       "    .dataframe tbody tr th:only-of-type {\n",
       "        vertical-align: middle;\n",
       "    }\n",
       "\n",
       "    .dataframe tbody tr th {\n",
       "        vertical-align: top;\n",
       "    }\n",
       "\n",
       "    .dataframe thead th {\n",
       "        text-align: right;\n",
       "    }\n",
       "</style>\n",
       "<table border=\"1\" class=\"dataframe\">\n",
       "  <thead>\n",
       "    <tr style=\"text-align: right;\">\n",
       "      <th></th>\n",
       "      <th>day</th>\n",
       "      <th>counts</th>\n",
       "    </tr>\n",
       "  </thead>\n",
       "  <tbody>\n",
       "    <tr>\n",
       "      <th>5</th>\n",
       "      <td>Tuesday</td>\n",
       "      <td>0.268817</td>\n",
       "    </tr>\n",
       "    <tr>\n",
       "      <th>1</th>\n",
       "      <td>Monday</td>\n",
       "      <td>0.230769</td>\n",
       "    </tr>\n",
       "    <tr>\n",
       "      <th>3</th>\n",
       "      <td>Sunday</td>\n",
       "      <td>0.217016</td>\n",
       "    </tr>\n",
       "    <tr>\n",
       "      <th>0</th>\n",
       "      <td>Friday</td>\n",
       "      <td>0.214744</td>\n",
       "    </tr>\n",
       "    <tr>\n",
       "      <th>2</th>\n",
       "      <td>Saturday</td>\n",
       "      <td>0.206965</td>\n",
       "    </tr>\n",
       "    <tr>\n",
       "      <th>6</th>\n",
       "      <td>Wednesday</td>\n",
       "      <td>0.203431</td>\n",
       "    </tr>\n",
       "    <tr>\n",
       "      <th>4</th>\n",
       "      <td>Thursday</td>\n",
       "      <td>0.190476</td>\n",
       "    </tr>\n",
       "  </tbody>\n",
       "</table>\n",
       "</div>"
      ],
      "text/plain": [
       "         day    counts\n",
       "5    Tuesday  0.268817\n",
       "1     Monday  0.230769\n",
       "3     Sunday  0.217016\n",
       "0     Friday  0.214744\n",
       "2   Saturday  0.206965\n",
       "6  Wednesday  0.203431\n",
       "4   Thursday  0.190476"
      ]
     },
     "execution_count": 485,
     "metadata": {},
     "output_type": "execute_result"
    }
   ],
   "source": [
    "# Répartition des worst_pred par jour\n",
    "(ext[ext.worst_pred ==  1].groupby('day').count().worst_pred / ext.groupby('day').worst_pred.count()).reset_index(name='counts').sort_values(by=['counts'],ascending=False)"
   ]
  },
  {
   "cell_type": "code",
   "execution_count": 487,
   "metadata": {},
   "outputs": [
    {
     "data": {
      "text/html": [
       "<div>\n",
       "<style scoped>\n",
       "    .dataframe tbody tr th:only-of-type {\n",
       "        vertical-align: middle;\n",
       "    }\n",
       "\n",
       "    .dataframe tbody tr th {\n",
       "        vertical-align: top;\n",
       "    }\n",
       "\n",
       "    .dataframe thead th {\n",
       "        text-align: right;\n",
       "    }\n",
       "</style>\n",
       "<table border=\"1\" class=\"dataframe\">\n",
       "  <thead>\n",
       "    <tr style=\"text-align: right;\">\n",
       "      <th></th>\n",
       "      <th>hours</th>\n",
       "      <th>counts</th>\n",
       "      <th>total_hours</th>\n",
       "      <th>f_total_hours</th>\n",
       "      <th>total</th>\n",
       "      <th>f_total</th>\n",
       "    </tr>\n",
       "  </thead>\n",
       "  <tbody>\n",
       "    <tr>\n",
       "      <th>20</th>\n",
       "      <td>20:05</td>\n",
       "      <td>6</td>\n",
       "      <td>13</td>\n",
       "      <td>0.461538</td>\n",
       "      <td>5972</td>\n",
       "      <td>0.001005</td>\n",
       "    </tr>\n",
       "    <tr>\n",
       "      <th>4</th>\n",
       "      <td>15:00</td>\n",
       "      <td>10</td>\n",
       "      <td>30</td>\n",
       "      <td>0.333333</td>\n",
       "      <td>5972</td>\n",
       "      <td>0.001674</td>\n",
       "    </tr>\n",
       "    <tr>\n",
       "      <th>11</th>\n",
       "      <td>17:30</td>\n",
       "      <td>10</td>\n",
       "      <td>32</td>\n",
       "      <td>0.312500</td>\n",
       "      <td>5972</td>\n",
       "      <td>0.001674</td>\n",
       "    </tr>\n",
       "    <tr>\n",
       "      <th>5</th>\n",
       "      <td>15:30</td>\n",
       "      <td>3</td>\n",
       "      <td>11</td>\n",
       "      <td>0.272727</td>\n",
       "      <td>5972</td>\n",
       "      <td>0.000502</td>\n",
       "    </tr>\n",
       "    <tr>\n",
       "      <th>2</th>\n",
       "      <td>14:00</td>\n",
       "      <td>37</td>\n",
       "      <td>146</td>\n",
       "      <td>0.253425</td>\n",
       "      <td>5972</td>\n",
       "      <td>0.006196</td>\n",
       "    </tr>\n",
       "  </tbody>\n",
       "</table>\n",
       "</div>"
      ],
      "text/plain": [
       "    hours  counts  total_hours  f_total_hours  total   f_total\n",
       "20  20:05       6           13       0.461538   5972  0.001005\n",
       "4   15:00      10           30       0.333333   5972  0.001674\n",
       "11  17:30      10           32       0.312500   5972  0.001674\n",
       "5   15:30       3           11       0.272727   5972  0.000502\n",
       "2   14:00      37          146       0.253425   5972  0.006196"
      ]
     },
     "execution_count": 487,
     "metadata": {},
     "output_type": "execute_result"
    }
   ],
   "source": [
    "# group by des bmrk loss par hours \n",
    "ext_bmkrLoss_day = (ext[ext.worst_pred ==  1].groupby('hours').count().worst_pred).reset_index(name='counts')\n",
    "\n",
    "#join du total des matchs pour cette hours (attention, toutes les hours n'ont pas de worst_pred)\n",
    "ext_bmkrLoss_day = ext_bmkrLoss_day.join(pd.DataFrame(ext.groupby('hours').worst_pred.count().reset_index(name='total_hours')).set_index('hours'), on='hours')\n",
    "\n",
    "# frq pour cette hours\n",
    "ext_bmkrLoss_day['f_total_hours'] = ext_bmkrLoss_day['counts'] / ext_bmkrLoss_day['total_hours']\n",
    "# frq sur tout les matches\n",
    "ext_bmkrLoss_day['total'] = ext.worst_pred.count()\n",
    "ext_bmkrLoss_day['f_total'] = ext_bmkrLoss_day['counts'] / ext_bmkrLoss_day['total']\n",
    "\n",
    "# order by \n",
    "#ext_bmkrLoss_day = ext_bmkrLoss_day.sort_values(by=['f_total'],ascending=False) # 19 18 20 16\n",
    "ext_bmkrLoss_day = ext_bmkrLoss_day.sort_values(by=['f_total_hours'],ascending=False) # 12:30 14:05 20:05 15:00\n",
    "ext_bmkrLoss_day[ext_bmkrLoss_day.total_hours > 1].head(5)\n",
    "#pd.concat([ext_bmkrLoss_day, ext.groupby('hours').worst_pred.count().reset_index(name='counts')['counts']], join=\"inner\")\n",
    "#ext_bmkrLoss_day['f_total_hours'] = ext_bmkrLoss_day['counts_bmkrLoss'] / ext_bmkrLoss_day['bmkrLoss_total_hours']\n",
    "\n",
    "#ext_bmkrLoss_day['total'] = ext.worst_pred.count()\n",
    "#ext_bmkrLoss_day['f_total_hours'] = ext_bmkrLoss_day['counts_bmkrLoss'] / ext_bmkrLoss_day['bmkrLoss_total_hours']\n",
    "#ext_bmkrLoss_day['bmkrLoss_total_hours'] = ext.groupby('hours').worst_pred.count().reset_index(name='counts')['counts']\n",
    "#ext_bmkrLoss_day['f_total'] = ext_bmkrLoss_day['counts_bmkrLoss'] / ext.worst_pred.count()\n",
    "#ext_bmkrLoss_day = ext_bmkrLoss_day.dropna()\n",
    "#ext_bmkrLoss_day.sort_values(by=['counts_bmkrLoss'],ascending=False)\n"
   ]
  },
  {
   "cell_type": "code",
   "execution_count": 491,
   "metadata": {
    "scrolled": false
   },
   "outputs": [
    {
     "data": {
      "text/html": [
       "<div>\n",
       "<style scoped>\n",
       "    .dataframe tbody tr th:only-of-type {\n",
       "        vertical-align: middle;\n",
       "    }\n",
       "\n",
       "    .dataframe tbody tr th {\n",
       "        vertical-align: top;\n",
       "    }\n",
       "\n",
       "    .dataframe thead th {\n",
       "        text-align: right;\n",
       "    }\n",
       "</style>\n",
       "<table border=\"1\" class=\"dataframe\">\n",
       "  <thead>\n",
       "    <tr style=\"text-align: right;\">\n",
       "      <th></th>\n",
       "      <th>day</th>\n",
       "      <th>hours</th>\n",
       "      <th>counts</th>\n",
       "      <th>total_hours</th>\n",
       "      <th>f_total_hours</th>\n",
       "      <th>total</th>\n",
       "      <th>f_total</th>\n",
       "    </tr>\n",
       "  </thead>\n",
       "  <tbody>\n",
       "    <tr>\n",
       "      <th>7</th>\n",
       "      <td>Friday</td>\n",
       "      <td>20:05</td>\n",
       "      <td>5</td>\n",
       "      <td>10</td>\n",
       "      <td>0.500000</td>\n",
       "      <td>5972</td>\n",
       "      <td>0.000837</td>\n",
       "    </tr>\n",
       "    <tr>\n",
       "      <th>39</th>\n",
       "      <td>Tuesday</td>\n",
       "      <td>17:30</td>\n",
       "      <td>3</td>\n",
       "      <td>6</td>\n",
       "      <td>0.500000</td>\n",
       "      <td>5972</td>\n",
       "      <td>0.000502</td>\n",
       "    </tr>\n",
       "    <tr>\n",
       "      <th>28</th>\n",
       "      <td>Sunday</td>\n",
       "      <td>15:30</td>\n",
       "      <td>3</td>\n",
       "      <td>7</td>\n",
       "      <td>0.428571</td>\n",
       "      <td>5972</td>\n",
       "      <td>0.000502</td>\n",
       "    </tr>\n",
       "    <tr>\n",
       "      <th>13</th>\n",
       "      <td>Saturday</td>\n",
       "      <td>15:00</td>\n",
       "      <td>5</td>\n",
       "      <td>14</td>\n",
       "      <td>0.357143</td>\n",
       "      <td>5972</td>\n",
       "      <td>0.000837</td>\n",
       "    </tr>\n",
       "    <tr>\n",
       "      <th>12</th>\n",
       "      <td>Saturday</td>\n",
       "      <td>14:00</td>\n",
       "      <td>4</td>\n",
       "      <td>12</td>\n",
       "      <td>0.333333</td>\n",
       "      <td>5972</td>\n",
       "      <td>0.000670</td>\n",
       "    </tr>\n",
       "    <tr>\n",
       "      <th>36</th>\n",
       "      <td>Sunday</td>\n",
       "      <td>20:05</td>\n",
       "      <td>1</td>\n",
       "      <td>3</td>\n",
       "      <td>0.333333</td>\n",
       "      <td>5972</td>\n",
       "      <td>0.000167</td>\n",
       "    </tr>\n",
       "    <tr>\n",
       "      <th>43</th>\n",
       "      <td>Tuesday</td>\n",
       "      <td>19:45</td>\n",
       "      <td>1</td>\n",
       "      <td>3</td>\n",
       "      <td>0.333333</td>\n",
       "      <td>5972</td>\n",
       "      <td>0.000167</td>\n",
       "    </tr>\n",
       "    <tr>\n",
       "      <th>41</th>\n",
       "      <td>Tuesday</td>\n",
       "      <td>19:00</td>\n",
       "      <td>1</td>\n",
       "      <td>3</td>\n",
       "      <td>0.333333</td>\n",
       "      <td>5972</td>\n",
       "      <td>0.000167</td>\n",
       "    </tr>\n",
       "    <tr>\n",
       "      <th>27</th>\n",
       "      <td>Sunday</td>\n",
       "      <td>15:00</td>\n",
       "      <td>5</td>\n",
       "      <td>16</td>\n",
       "      <td>0.312500</td>\n",
       "      <td>5972</td>\n",
       "      <td>0.000837</td>\n",
       "    </tr>\n",
       "    <tr>\n",
       "      <th>45</th>\n",
       "      <td>Wednesday</td>\n",
       "      <td>17:30</td>\n",
       "      <td>6</td>\n",
       "      <td>20</td>\n",
       "      <td>0.300000</td>\n",
       "      <td>5972</td>\n",
       "      <td>0.001005</td>\n",
       "    </tr>\n",
       "  </tbody>\n",
       "</table>\n",
       "</div>"
      ],
      "text/plain": [
       "          day  hours  counts  total_hours  f_total_hours  total   f_total\n",
       "7      Friday  20:05       5           10       0.500000   5972  0.000837\n",
       "39    Tuesday  17:30       3            6       0.500000   5972  0.000502\n",
       "28     Sunday  15:30       3            7       0.428571   5972  0.000502\n",
       "13   Saturday  15:00       5           14       0.357143   5972  0.000837\n",
       "12   Saturday  14:00       4           12       0.333333   5972  0.000670\n",
       "36     Sunday  20:05       1            3       0.333333   5972  0.000167\n",
       "43    Tuesday  19:45       1            3       0.333333   5972  0.000167\n",
       "41    Tuesday  19:00       1            3       0.333333   5972  0.000167\n",
       "27     Sunday  15:00       5           16       0.312500   5972  0.000837\n",
       "45  Wednesday  17:30       6           20       0.300000   5972  0.001005"
      ]
     },
     "execution_count": 491,
     "metadata": {},
     "output_type": "execute_result"
    }
   ],
   "source": [
    "# group by des bmrk loss par hours \n",
    "ext_bmkrLoss_day = (ext[ext.worst_pred ==  1].groupby(['day','hours']).count().worst_pred).reset_index(name='counts')\n",
    "\n",
    "#join du total des matchs pour cette hours (attention, toutes les hours n'ont pas de worst_pred)\n",
    "ext_bmkrLoss_day = ext_bmkrLoss_day.join(pd.DataFrame(ext.groupby(['day','hours']).worst_pred.count().reset_index(name='total_hours')).set_index(['day','hours']), on=['day','hours'])\n",
    "\n",
    "# frq pour cette hours\n",
    "ext_bmkrLoss_day['f_total_hours'] = ext_bmkrLoss_day['counts'] / ext_bmkrLoss_day['total_hours']\n",
    "# frq sur tout les matches\n",
    "ext_bmkrLoss_day['total'] = ext.worst_pred.count()\n",
    "ext_bmkrLoss_day['f_total'] = ext_bmkrLoss_day['counts'] / ext_bmkrLoss_day['total']\n",
    "\n",
    "ext_bmkrLoss_day = ext_bmkrLoss_day.sort_values(by=['f_total_hours'],ascending=False) # 12:30 14:05 20:05 15:00\n",
    "ext_bmkrLoss_day[ext_bmkrLoss_day.total_hours > 1].head(10)\n",
    "\n"
   ]
  },
  {
   "cell_type": "code",
   "execution_count": 433,
   "metadata": {},
   "outputs": [
    {
     "data": {
      "text/html": [
       "<div>\n",
       "<style scoped>\n",
       "    .dataframe tbody tr th:only-of-type {\n",
       "        vertical-align: middle;\n",
       "    }\n",
       "\n",
       "    .dataframe tbody tr th {\n",
       "        vertical-align: top;\n",
       "    }\n",
       "\n",
       "    .dataframe thead th {\n",
       "        text-align: right;\n",
       "    }\n",
       "</style>\n",
       "<table border=\"1\" class=\"dataframe\">\n",
       "  <thead>\n",
       "    <tr style=\"text-align: right;\">\n",
       "      <th></th>\n",
       "      <th>bmkr_loss</th>\n",
       "      <th>date</th>\n",
       "      <th>day</th>\n",
       "      <th>hours</th>\n",
       "      <th>odds_a</th>\n",
       "      <th>odds_b</th>\n",
       "      <th>odds_draw</th>\n",
       "      <th>outcome_effectif</th>\n",
       "      <th>outcome_odds</th>\n",
       "      <th>prediction_odds</th>\n",
       "      <th>score_a</th>\n",
       "      <th>score_b</th>\n",
       "      <th>season</th>\n",
       "      <th>team_a</th>\n",
       "      <th>team_b</th>\n",
       "      <th>loss_loss</th>\n",
       "    </tr>\n",
       "  </thead>\n",
       "  <tbody>\n",
       "    <tr>\n",
       "      <th>112</th>\n",
       "      <td>0</td>\n",
       "      <td>2019-05-24 20:05:00</td>\n",
       "      <td>Friday</td>\n",
       "      <td>20:05</td>\n",
       "      <td>1.55</td>\n",
       "      <td>6.42</td>\n",
       "      <td>4.03</td>\n",
       "      <td>HOME</td>\n",
       "      <td>AWAY</td>\n",
       "      <td>1</td>\n",
       "      <td>2</td>\n",
       "      <td>1</td>\n",
       "      <td>2018/2019</td>\n",
       "      <td>Amiens</td>\n",
       "      <td>Guingamp</td>\n",
       "      <td>0</td>\n",
       "    </tr>\n",
       "    <tr>\n",
       "      <th>113</th>\n",
       "      <td>1</td>\n",
       "      <td>2019-05-24 20:05:00</td>\n",
       "      <td>Friday</td>\n",
       "      <td>20:05</td>\n",
       "      <td>2.15</td>\n",
       "      <td>3.20</td>\n",
       "      <td>3.78</td>\n",
       "      <td>DRAW</td>\n",
       "      <td>DRAW</td>\n",
       "      <td>0</td>\n",
       "      <td>1</td>\n",
       "      <td>1</td>\n",
       "      <td>2018/2019</td>\n",
       "      <td>Angers</td>\n",
       "      <td>St Etienne</td>\n",
       "      <td>0</td>\n",
       "    </tr>\n",
       "    <tr>\n",
       "      <th>114</th>\n",
       "      <td>1</td>\n",
       "      <td>2019-05-24 20:05:00</td>\n",
       "      <td>Friday</td>\n",
       "      <td>20:05</td>\n",
       "      <td>2.04</td>\n",
       "      <td>4.04</td>\n",
       "      <td>3.25</td>\n",
       "      <td>AWAY</td>\n",
       "      <td>AWAY</td>\n",
       "      <td>0</td>\n",
       "      <td>0</td>\n",
       "      <td>1</td>\n",
       "      <td>2018/2019</td>\n",
       "      <td>Caen</td>\n",
       "      <td>Bordeaux</td>\n",
       "      <td>0</td>\n",
       "    </tr>\n",
       "    <tr>\n",
       "      <th>115</th>\n",
       "      <td>0</td>\n",
       "      <td>2019-05-24 20:05:00</td>\n",
       "      <td>Friday</td>\n",
       "      <td>20:05</td>\n",
       "      <td>1.45</td>\n",
       "      <td>6.36</td>\n",
       "      <td>5.02</td>\n",
       "      <td>HOME</td>\n",
       "      <td>AWAY</td>\n",
       "      <td>1</td>\n",
       "      <td>2</td>\n",
       "      <td>1</td>\n",
       "      <td>2018/2019</td>\n",
       "      <td>Dijon</td>\n",
       "      <td>Toulouse</td>\n",
       "      <td>0</td>\n",
       "    </tr>\n",
       "    <tr>\n",
       "      <th>116</th>\n",
       "      <td>0</td>\n",
       "      <td>2019-05-24 20:05:00</td>\n",
       "      <td>Friday</td>\n",
       "      <td>20:05</td>\n",
       "      <td>1.86</td>\n",
       "      <td>4.00</td>\n",
       "      <td>3.91</td>\n",
       "      <td>HOME</td>\n",
       "      <td>AWAY</td>\n",
       "      <td>1</td>\n",
       "      <td>1</td>\n",
       "      <td>0</td>\n",
       "      <td>2018/2019</td>\n",
       "      <td>Marseille</td>\n",
       "      <td>Montpellier</td>\n",
       "      <td>0</td>\n",
       "    </tr>\n",
       "    <tr>\n",
       "      <th>117</th>\n",
       "      <td>1</td>\n",
       "      <td>2019-05-24 20:05:00</td>\n",
       "      <td>Friday</td>\n",
       "      <td>20:05</td>\n",
       "      <td>1.95</td>\n",
       "      <td>3.82</td>\n",
       "      <td>3.71</td>\n",
       "      <td>AWAY</td>\n",
       "      <td>AWAY</td>\n",
       "      <td>0</td>\n",
       "      <td>0</td>\n",
       "      <td>1</td>\n",
       "      <td>2018/2019</td>\n",
       "      <td>Nantes</td>\n",
       "      <td>Strasbourg</td>\n",
       "      <td>0</td>\n",
       "    </tr>\n",
       "    <tr>\n",
       "      <th>118</th>\n",
       "      <td>1</td>\n",
       "      <td>2019-05-24 20:05:00</td>\n",
       "      <td>Friday</td>\n",
       "      <td>20:05</td>\n",
       "      <td>3.41</td>\n",
       "      <td>2.20</td>\n",
       "      <td>3.38</td>\n",
       "      <td>HOME</td>\n",
       "      <td>HOME</td>\n",
       "      <td>0</td>\n",
       "      <td>2</td>\n",
       "      <td>0</td>\n",
       "      <td>2018/2019</td>\n",
       "      <td>Nice</td>\n",
       "      <td>Monaco</td>\n",
       "      <td>0</td>\n",
       "    </tr>\n",
       "    <tr>\n",
       "      <th>119</th>\n",
       "      <td>0</td>\n",
       "      <td>2019-05-24 20:05:00</td>\n",
       "      <td>Friday</td>\n",
       "      <td>20:05</td>\n",
       "      <td>3.80</td>\n",
       "      <td>1.83</td>\n",
       "      <td>4.27</td>\n",
       "      <td>AWAY</td>\n",
       "      <td>DRAW</td>\n",
       "      <td>1</td>\n",
       "      <td>2</td>\n",
       "      <td>3</td>\n",
       "      <td>2018/2019</td>\n",
       "      <td>Nimes</td>\n",
       "      <td>Lyon</td>\n",
       "      <td>0</td>\n",
       "    </tr>\n",
       "    <tr>\n",
       "      <th>120</th>\n",
       "      <td>1</td>\n",
       "      <td>2019-05-24 20:05:00</td>\n",
       "      <td>Friday</td>\n",
       "      <td>20:05</td>\n",
       "      <td>6.71</td>\n",
       "      <td>1.40</td>\n",
       "      <td>5.45</td>\n",
       "      <td>HOME</td>\n",
       "      <td>HOME</td>\n",
       "      <td>0</td>\n",
       "      <td>3</td>\n",
       "      <td>1</td>\n",
       "      <td>2018/2019</td>\n",
       "      <td>Reims</td>\n",
       "      <td>Paris SG</td>\n",
       "      <td>0</td>\n",
       "    </tr>\n",
       "    <tr>\n",
       "      <th>121</th>\n",
       "      <td>0</td>\n",
       "      <td>2019-05-24 20:05:00</td>\n",
       "      <td>Friday</td>\n",
       "      <td>20:05</td>\n",
       "      <td>2.37</td>\n",
       "      <td>2.85</td>\n",
       "      <td>3.72</td>\n",
       "      <td>HOME</td>\n",
       "      <td>DRAW</td>\n",
       "      <td>1</td>\n",
       "      <td>3</td>\n",
       "      <td>1</td>\n",
       "      <td>2018/2019</td>\n",
       "      <td>Rennes</td>\n",
       "      <td>Lille</td>\n",
       "      <td>0</td>\n",
       "    </tr>\n",
       "  </tbody>\n",
       "</table>\n",
       "</div>"
      ],
      "text/plain": [
       "     bmkr_loss                 date     day  hours  odds_a  odds_b  odds_draw  \\\n",
       "112          0  2019-05-24 20:05:00  Friday  20:05    1.55    6.42       4.03   \n",
       "113          1  2019-05-24 20:05:00  Friday  20:05    2.15    3.20       3.78   \n",
       "114          1  2019-05-24 20:05:00  Friday  20:05    2.04    4.04       3.25   \n",
       "115          0  2019-05-24 20:05:00  Friday  20:05    1.45    6.36       5.02   \n",
       "116          0  2019-05-24 20:05:00  Friday  20:05    1.86    4.00       3.91   \n",
       "117          1  2019-05-24 20:05:00  Friday  20:05    1.95    3.82       3.71   \n",
       "118          1  2019-05-24 20:05:00  Friday  20:05    3.41    2.20       3.38   \n",
       "119          0  2019-05-24 20:05:00  Friday  20:05    3.80    1.83       4.27   \n",
       "120          1  2019-05-24 20:05:00  Friday  20:05    6.71    1.40       5.45   \n",
       "121          0  2019-05-24 20:05:00  Friday  20:05    2.37    2.85       3.72   \n",
       "\n",
       "    outcome_effectif outcome_odds  prediction_odds  score_a  score_b  \\\n",
       "112             HOME         AWAY                1        2        1   \n",
       "113             DRAW         DRAW                0        1        1   \n",
       "114             AWAY         AWAY                0        0        1   \n",
       "115             HOME         AWAY                1        2        1   \n",
       "116             HOME         AWAY                1        1        0   \n",
       "117             AWAY         AWAY                0        0        1   \n",
       "118             HOME         HOME                0        2        0   \n",
       "119             AWAY         DRAW                1        2        3   \n",
       "120             HOME         HOME                0        3        1   \n",
       "121             HOME         DRAW                1        3        1   \n",
       "\n",
       "        season     team_a       team_b  loss_loss  \n",
       "112  2018/2019     Amiens     Guingamp          0  \n",
       "113  2018/2019     Angers   St Etienne          0  \n",
       "114  2018/2019       Caen     Bordeaux          0  \n",
       "115  2018/2019      Dijon     Toulouse          0  \n",
       "116  2018/2019  Marseille  Montpellier          0  \n",
       "117  2018/2019     Nantes   Strasbourg          0  \n",
       "118  2018/2019       Nice       Monaco          0  \n",
       "119  2018/2019      Nimes         Lyon          0  \n",
       "120  2018/2019      Reims     Paris SG          0  \n",
       "121  2018/2019     Rennes        Lille          0  "
      ]
     },
     "execution_count": 433,
     "metadata": {},
     "output_type": "execute_result"
    }
   ],
   "source": [
    "ext[(ext.day == \"Friday\") & (ext.hours == \"20:05\")]"
   ]
  }
 ],
 "metadata": {
  "kernelspec": {
   "display_name": "Python 3",
   "language": "python",
   "name": "python3"
  },
  "language_info": {
   "codemirror_mode": {
    "name": "ipython",
    "version": 3
   },
   "file_extension": ".py",
   "mimetype": "text/x-python",
   "name": "python",
   "nbconvert_exporter": "python",
   "pygments_lexer": "ipython3",
   "version": "3.7.3"
  }
 },
 "nbformat": 4,
 "nbformat_minor": 2
}
