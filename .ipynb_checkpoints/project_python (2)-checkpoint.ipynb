{
 "cells": [
  {
   "cell_type": "markdown",
   "metadata": {},
   "source": [
    "# Projet Python M2 IMSD"
   ]
  },
  {
   "cell_type": "markdown",
   "metadata": {},
   "source": [
    "Project description\n",
    "We are working on the detection of Rent announcements Rent amount predection in Paris. This Project maybe extended to support other cities. It's a Proof Of Concept."
   ]
  },
  {
   "cell_type": "markdown",
   "metadata": {},
   "source": [
    "Description du projet :\n",
    "Analyse des matches de ligue 1 depuis la saison 2003/2004. Le but est d'en apprendre plus sur les cotes fixées par les bookmakers. Sont-elles correctes ? Est ce possible de prédire les matches de ligue 1 ?\n",
    "Si les résultats de ce projet son concluant, il pourrait être intéressant de mettre en place des indicateurs afin d'aider les parieurs et éventuellement s'étendre à d'autres ligues"
   ]
  },
  {
   "cell_type": "markdown",
   "metadata": {},
   "source": [
    "## 1. Pre-processing des données"
   ]
  },
  {
   "cell_type": "code",
   "execution_count": 227,
   "metadata": {},
   "outputs": [],
   "source": [
    "import pandas as pd\n",
    "import matplotlib.pyplot as plt\n",
    "import numpy as np\n",
    "import seaborn as sns\n",
    "import statsmodels.api as sm\n",
    "import statsmodels.formula.api as smf\n",
    "from scipy import stats\n",
    "from scipy.stats import wilcoxon, pearsonr, spearmanr, poisson\n",
    "\n",
    "%matplotlib inline\n",
    "plt.style.use('seaborn-whitegrid') # theme\n",
    "plt.rcParams['figure.figsize'] = (11,7) # taille des figures"
   ]
  },
  {
   "cell_type": "code",
   "execution_count": 188,
   "metadata": {},
   "outputs": [],
   "source": [
    "extract = pd.read_csv(\"/home/sam/Documents/cours/python/football-ligue-1-scraping-eda-master/exctract.csv\")\n",
    "#extract = pd.read_csv(\"C:/Users/Daniel/Desktop/M2 IMSD/Cours/Python IMSD/Projet_python/football-ligue-1-scr#aping-eda-master/extract.csv\")"
   ]
  },
  {
   "cell_type": "code",
   "execution_count": 190,
   "metadata": {
    "scrolled": false
   },
   "outputs": [
    {
     "name": "stdout",
     "output_type": "stream",
     "text": [
      "(5953, 14)\n"
     ]
    },
    {
     "data": {
      "text/html": [
       "<div>\n",
       "<style scoped>\n",
       "    .dataframe tbody tr th:only-of-type {\n",
       "        vertical-align: middle;\n",
       "    }\n",
       "\n",
       "    .dataframe tbody tr th {\n",
       "        vertical-align: top;\n",
       "    }\n",
       "\n",
       "    .dataframe thead th {\n",
       "        text-align: right;\n",
       "    }\n",
       "</style>\n",
       "<table border=\"1\" class=\"dataframe\">\n",
       "  <thead>\n",
       "    <tr style=\"text-align: right;\">\n",
       "      <th></th>\n",
       "      <th>date</th>\n",
       "      <th>day</th>\n",
       "      <th>hours</th>\n",
       "      <th>odds_a</th>\n",
       "      <th>odds_b</th>\n",
       "      <th>odds_draw</th>\n",
       "      <th>outcome_effectif</th>\n",
       "      <th>outcome_odds</th>\n",
       "      <th>prediction_odds</th>\n",
       "      <th>score_a</th>\n",
       "      <th>score_b</th>\n",
       "      <th>season</th>\n",
       "      <th>team_a</th>\n",
       "      <th>team_b</th>\n",
       "    </tr>\n",
       "  </thead>\n",
       "  <tbody>\n",
       "    <tr>\n",
       "      <th>0</th>\n",
       "      <td>2019-10-26 18:00:00</td>\n",
       "      <td>Saturday</td>\n",
       "      <td>18:00</td>\n",
       "      <td>2.36</td>\n",
       "      <td>3.19</td>\n",
       "      <td>3.27</td>\n",
       "      <td>HOME</td>\n",
       "      <td>HOME</td>\n",
       "      <td>1</td>\n",
       "      <td>2</td>\n",
       "      <td>0</td>\n",
       "      <td>2019/2020</td>\n",
       "      <td>Brest</td>\n",
       "      <td>Dijon</td>\n",
       "    </tr>\n",
       "    <tr>\n",
       "      <th>1</th>\n",
       "      <td>2019-10-26 18:00:00</td>\n",
       "      <td>Saturday</td>\n",
       "      <td>18:00</td>\n",
       "      <td>1.43</td>\n",
       "      <td>7.80</td>\n",
       "      <td>4.52</td>\n",
       "      <td>HOME</td>\n",
       "      <td>HOME</td>\n",
       "      <td>1</td>\n",
       "      <td>2</td>\n",
       "      <td>0</td>\n",
       "      <td>2019/2020</td>\n",
       "      <td>Lyon</td>\n",
       "      <td>Metz</td>\n",
       "    </tr>\n",
       "    <tr>\n",
       "      <th>2</th>\n",
       "      <td>2019-10-26 18:00:00</td>\n",
       "      <td>Saturday</td>\n",
       "      <td>18:00</td>\n",
       "      <td>2.22</td>\n",
       "      <td>3.58</td>\n",
       "      <td>3.17</td>\n",
       "      <td>DRAW</td>\n",
       "      <td>HOME</td>\n",
       "      <td>0</td>\n",
       "      <td>0</td>\n",
       "      <td>0</td>\n",
       "      <td>2019/2020</td>\n",
       "      <td>Montpellier</td>\n",
       "      <td>Angers</td>\n",
       "    </tr>\n",
       "    <tr>\n",
       "      <th>3</th>\n",
       "      <td>2019-10-26 18:00:00</td>\n",
       "      <td>Saturday</td>\n",
       "      <td>18:00</td>\n",
       "      <td>1.65</td>\n",
       "      <td>5.97</td>\n",
       "      <td>3.67</td>\n",
       "      <td>DRAW</td>\n",
       "      <td>HOME</td>\n",
       "      <td>0</td>\n",
       "      <td>0</td>\n",
       "      <td>0</td>\n",
       "      <td>2019/2020</td>\n",
       "      <td>Reims</td>\n",
       "      <td>Nimes</td>\n",
       "    </tr>\n",
       "    <tr>\n",
       "      <th>4</th>\n",
       "      <td>2019-10-26 18:00:00</td>\n",
       "      <td>Saturday</td>\n",
       "      <td>18:00</td>\n",
       "      <td>1.91</td>\n",
       "      <td>4.56</td>\n",
       "      <td>3.33</td>\n",
       "      <td>HOME</td>\n",
       "      <td>HOME</td>\n",
       "      <td>1</td>\n",
       "      <td>1</td>\n",
       "      <td>0</td>\n",
       "      <td>2019/2020</td>\n",
       "      <td>Strasbourg</td>\n",
       "      <td>Nice</td>\n",
       "    </tr>\n",
       "  </tbody>\n",
       "</table>\n",
       "</div>"
      ],
      "text/plain": [
       "                  date       day  hours  odds_a  odds_b  odds_draw  \\\n",
       "0  2019-10-26 18:00:00  Saturday  18:00    2.36    3.19       3.27   \n",
       "1  2019-10-26 18:00:00  Saturday  18:00    1.43    7.80       4.52   \n",
       "2  2019-10-26 18:00:00  Saturday  18:00    2.22    3.58       3.17   \n",
       "3  2019-10-26 18:00:00  Saturday  18:00    1.65    5.97       3.67   \n",
       "4  2019-10-26 18:00:00  Saturday  18:00    1.91    4.56       3.33   \n",
       "\n",
       "  outcome_effectif outcome_odds  prediction_odds  score_a  score_b     season  \\\n",
       "0             HOME         HOME                1        2        0  2019/2020   \n",
       "1             HOME         HOME                1        2        0  2019/2020   \n",
       "2             DRAW         HOME                0        0        0  2019/2020   \n",
       "3             DRAW         HOME                0        0        0  2019/2020   \n",
       "4             HOME         HOME                1        1        0  2019/2020   \n",
       "\n",
       "        team_a  team_b  \n",
       "0        Brest   Dijon  \n",
       "1         Lyon    Metz  \n",
       "2  Montpellier  Angers  \n",
       "3        Reims   Nimes  \n",
       "4   Strasbourg    Nice  "
      ]
     },
     "execution_count": 190,
     "metadata": {},
     "output_type": "execute_result"
    }
   ],
   "source": [
    "print(extract.shape)\n",
    "extract.head()"
   ]
  },
  {
   "cell_type": "markdown",
   "metadata": {},
   "source": [
    "On vérifie que la base ne contient pas de valeurs manquantes :"
   ]
  },
  {
   "cell_type": "code",
   "execution_count": 191,
   "metadata": {},
   "outputs": [
    {
     "data": {
      "text/plain": [
       "date                0\n",
       "day                 0\n",
       "hours               0\n",
       "odds_a              0\n",
       "odds_b              0\n",
       "odds_draw           0\n",
       "outcome_effectif    0\n",
       "outcome_odds        0\n",
       "prediction_odds     0\n",
       "score_a             0\n",
       "score_b             0\n",
       "season              0\n",
       "team_a              0\n",
       "team_b              0\n",
       "dtype: int64"
      ]
     },
     "execution_count": 191,
     "metadata": {},
     "output_type": "execute_result"
    }
   ],
   "source": [
    "extract.isnull().sum()"
   ]
  },
  {
   "cell_type": "code",
   "execution_count": 192,
   "metadata": {},
   "outputs": [
    {
     "data": {
      "text/plain": [
       "date                 object\n",
       "day                  object\n",
       "hours                object\n",
       "odds_a              float64\n",
       "odds_b              float64\n",
       "odds_draw           float64\n",
       "outcome_effectif     object\n",
       "outcome_odds         object\n",
       "prediction_odds       int64\n",
       "score_a               int64\n",
       "score_b               int64\n",
       "season               object\n",
       "team_a               object\n",
       "team_b               object\n",
       "dtype: object"
      ]
     },
     "execution_count": 192,
     "metadata": {},
     "output_type": "execute_result"
    }
   ],
   "source": [
    "extract.dtypes"
   ]
  },
  {
   "cell_type": "markdown",
   "metadata": {},
   "source": [
    "On retire la saison 2003/2004 car les données la concernant sont incomplètes. On retire également la saison 2019/2020 car elle est encore en cours. On change ensuite le contenu de la variable *season* afin de garder seulement la première année. Par exemple, dans ce qui suit, la saison 2015/2016 sera simplement appelée saison 2015."
   ]
  },
  {
   "cell_type": "code",
   "execution_count": 193,
   "metadata": {},
   "outputs": [
    {
     "data": {
      "text/plain": [
       "(5696, 14)"
      ]
     },
     "execution_count": 193,
     "metadata": {},
     "output_type": "execute_result"
    }
   ],
   "source": [
    "df = extract[(extract.season != \"2019/2020\") & (extract.season != \"2003/2004\")]\n",
    "df.shape"
   ]
  },
  {
   "cell_type": "code",
   "execution_count": 194,
   "metadata": {},
   "outputs": [
    {
     "name": "stderr",
     "output_type": "stream",
     "text": [
      "C:\\Users\\Daniel\\Anaconda3\\lib\\site-packages\\ipykernel_launcher.py:1: SettingWithCopyWarning: \n",
      "A value is trying to be set on a copy of a slice from a DataFrame.\n",
      "Try using .loc[row_indexer,col_indexer] = value instead\n",
      "\n",
      "See the caveats in the documentation: http://pandas.pydata.org/pandas-docs/stable/indexing.html#indexing-view-versus-copy\n",
      "  \"\"\"Entry point for launching an IPython kernel.\n"
     ]
    }
   ],
   "source": [
    "df['season'] = df['season'].str[:4]"
   ]
  },
  {
   "cell_type": "markdown",
   "metadata": {},
   "source": [
    "Créer un dicitonnaire avec la saison en clé et un dataframe avec toutes les données correspondantes en valeur :"
   ]
  },
  {
   "cell_type": "code",
   "execution_count": 195,
   "metadata": {},
   "outputs": [
    {
     "data": {
      "text/plain": [
       "dict_keys(['2004', '2005', '2006', '2007', '2008', '2009', '2010', '2011', '2012', '2013', '2014', '2015', '2016', '2017', '2018'])"
      ]
     },
     "execution_count": 195,
     "metadata": {},
     "output_type": "execute_result"
    }
   ],
   "source": [
    "values=[]\n",
    "for season, df_season in df.groupby('season'):\n",
    "    values.append(df_season)\n",
    "\n",
    "mydict = dict(list(enumerate(values)))\n",
    "\n",
    "for i in range(0,15) :\n",
    "    mydict[list(reversed(df['season'].unique()))[i]] = mydict.pop(i)\n",
    "    \n",
    "mydict.keys()"
   ]
  },
  {
   "cell_type": "markdown",
   "metadata": {},
   "source": [
    "Une saison est censée comporter, au plus, 380 matches (38 journées de 10 matches). Certaines saisons peuvent comporter moins de matches du fait des forfaits ou des annulations de scores prononcés par la Ligue de Football Professionnel. Aussi, depuis 2016, des barrages de relégation ont été instaurés afin de déterminer si le club classé 18ème descend en division inférieure. Cela explique les matches supplémentaires à partir de la saison 2016. En plus d'opposer des équipes de Ligue 1 à des clubs de Ligue 2, ces confrontations représentent un enjeu tel que nous avons décidé de les exclure de la base."
   ]
  },
  {
   "cell_type": "code",
   "execution_count": 196,
   "metadata": {},
   "outputs": [
    {
     "data": {
      "text/html": [
       "<div>\n",
       "<style scoped>\n",
       "    .dataframe tbody tr th:only-of-type {\n",
       "        vertical-align: middle;\n",
       "    }\n",
       "\n",
       "    .dataframe tbody tr th {\n",
       "        vertical-align: top;\n",
       "    }\n",
       "\n",
       "    .dataframe thead th {\n",
       "        text-align: right;\n",
       "    }\n",
       "</style>\n",
       "<table border=\"1\" class=\"dataframe\">\n",
       "  <thead>\n",
       "    <tr style=\"text-align: right;\">\n",
       "      <th></th>\n",
       "      <th>date</th>\n",
       "      <th>day</th>\n",
       "      <th>hours</th>\n",
       "      <th>odds_a</th>\n",
       "      <th>odds_b</th>\n",
       "      <th>odds_draw</th>\n",
       "      <th>outcome_effectif</th>\n",
       "      <th>outcome_odds</th>\n",
       "      <th>prediction_odds</th>\n",
       "      <th>score_a</th>\n",
       "      <th>score_b</th>\n",
       "      <th>team_a</th>\n",
       "      <th>team_b</th>\n",
       "    </tr>\n",
       "    <tr>\n",
       "      <th>season</th>\n",
       "      <th></th>\n",
       "      <th></th>\n",
       "      <th></th>\n",
       "      <th></th>\n",
       "      <th></th>\n",
       "      <th></th>\n",
       "      <th></th>\n",
       "      <th></th>\n",
       "      <th></th>\n",
       "      <th></th>\n",
       "      <th></th>\n",
       "      <th></th>\n",
       "      <th></th>\n",
       "    </tr>\n",
       "  </thead>\n",
       "  <tbody>\n",
       "    <tr>\n",
       "      <th>2004</th>\n",
       "      <td>377</td>\n",
       "      <td>377</td>\n",
       "      <td>377</td>\n",
       "      <td>377</td>\n",
       "      <td>377</td>\n",
       "      <td>377</td>\n",
       "      <td>377</td>\n",
       "      <td>377</td>\n",
       "      <td>377</td>\n",
       "      <td>377</td>\n",
       "      <td>377</td>\n",
       "      <td>377</td>\n",
       "      <td>377</td>\n",
       "    </tr>\n",
       "    <tr>\n",
       "      <th>2005</th>\n",
       "      <td>379</td>\n",
       "      <td>379</td>\n",
       "      <td>379</td>\n",
       "      <td>379</td>\n",
       "      <td>379</td>\n",
       "      <td>379</td>\n",
       "      <td>379</td>\n",
       "      <td>379</td>\n",
       "      <td>379</td>\n",
       "      <td>379</td>\n",
       "      <td>379</td>\n",
       "      <td>379</td>\n",
       "      <td>379</td>\n",
       "    </tr>\n",
       "    <tr>\n",
       "      <th>2006</th>\n",
       "      <td>378</td>\n",
       "      <td>378</td>\n",
       "      <td>378</td>\n",
       "      <td>378</td>\n",
       "      <td>378</td>\n",
       "      <td>378</td>\n",
       "      <td>378</td>\n",
       "      <td>378</td>\n",
       "      <td>378</td>\n",
       "      <td>378</td>\n",
       "      <td>378</td>\n",
       "      <td>378</td>\n",
       "      <td>378</td>\n",
       "    </tr>\n",
       "    <tr>\n",
       "      <th>2007</th>\n",
       "      <td>380</td>\n",
       "      <td>380</td>\n",
       "      <td>380</td>\n",
       "      <td>380</td>\n",
       "      <td>380</td>\n",
       "      <td>380</td>\n",
       "      <td>380</td>\n",
       "      <td>380</td>\n",
       "      <td>380</td>\n",
       "      <td>380</td>\n",
       "      <td>380</td>\n",
       "      <td>380</td>\n",
       "      <td>380</td>\n",
       "    </tr>\n",
       "    <tr>\n",
       "      <th>2008</th>\n",
       "      <td>380</td>\n",
       "      <td>380</td>\n",
       "      <td>380</td>\n",
       "      <td>380</td>\n",
       "      <td>380</td>\n",
       "      <td>380</td>\n",
       "      <td>380</td>\n",
       "      <td>380</td>\n",
       "      <td>380</td>\n",
       "      <td>380</td>\n",
       "      <td>380</td>\n",
       "      <td>380</td>\n",
       "      <td>380</td>\n",
       "    </tr>\n",
       "    <tr>\n",
       "      <th>2009</th>\n",
       "      <td>377</td>\n",
       "      <td>377</td>\n",
       "      <td>377</td>\n",
       "      <td>377</td>\n",
       "      <td>377</td>\n",
       "      <td>377</td>\n",
       "      <td>377</td>\n",
       "      <td>377</td>\n",
       "      <td>377</td>\n",
       "      <td>377</td>\n",
       "      <td>377</td>\n",
       "      <td>377</td>\n",
       "      <td>377</td>\n",
       "    </tr>\n",
       "    <tr>\n",
       "      <th>2010</th>\n",
       "      <td>380</td>\n",
       "      <td>380</td>\n",
       "      <td>380</td>\n",
       "      <td>380</td>\n",
       "      <td>380</td>\n",
       "      <td>380</td>\n",
       "      <td>380</td>\n",
       "      <td>380</td>\n",
       "      <td>380</td>\n",
       "      <td>380</td>\n",
       "      <td>380</td>\n",
       "      <td>380</td>\n",
       "      <td>380</td>\n",
       "    </tr>\n",
       "    <tr>\n",
       "      <th>2011</th>\n",
       "      <td>380</td>\n",
       "      <td>380</td>\n",
       "      <td>380</td>\n",
       "      <td>380</td>\n",
       "      <td>380</td>\n",
       "      <td>380</td>\n",
       "      <td>380</td>\n",
       "      <td>380</td>\n",
       "      <td>380</td>\n",
       "      <td>380</td>\n",
       "      <td>380</td>\n",
       "      <td>380</td>\n",
       "      <td>380</td>\n",
       "    </tr>\n",
       "    <tr>\n",
       "      <th>2012</th>\n",
       "      <td>380</td>\n",
       "      <td>380</td>\n",
       "      <td>380</td>\n",
       "      <td>380</td>\n",
       "      <td>380</td>\n",
       "      <td>380</td>\n",
       "      <td>380</td>\n",
       "      <td>380</td>\n",
       "      <td>380</td>\n",
       "      <td>380</td>\n",
       "      <td>380</td>\n",
       "      <td>380</td>\n",
       "      <td>380</td>\n",
       "    </tr>\n",
       "    <tr>\n",
       "      <th>2013</th>\n",
       "      <td>379</td>\n",
       "      <td>379</td>\n",
       "      <td>379</td>\n",
       "      <td>379</td>\n",
       "      <td>379</td>\n",
       "      <td>379</td>\n",
       "      <td>379</td>\n",
       "      <td>379</td>\n",
       "      <td>379</td>\n",
       "      <td>379</td>\n",
       "      <td>379</td>\n",
       "      <td>379</td>\n",
       "      <td>379</td>\n",
       "    </tr>\n",
       "    <tr>\n",
       "      <th>2014</th>\n",
       "      <td>380</td>\n",
       "      <td>380</td>\n",
       "      <td>380</td>\n",
       "      <td>380</td>\n",
       "      <td>380</td>\n",
       "      <td>380</td>\n",
       "      <td>380</td>\n",
       "      <td>380</td>\n",
       "      <td>380</td>\n",
       "      <td>380</td>\n",
       "      <td>380</td>\n",
       "      <td>380</td>\n",
       "      <td>380</td>\n",
       "    </tr>\n",
       "    <tr>\n",
       "      <th>2015</th>\n",
       "      <td>377</td>\n",
       "      <td>377</td>\n",
       "      <td>377</td>\n",
       "      <td>377</td>\n",
       "      <td>377</td>\n",
       "      <td>377</td>\n",
       "      <td>377</td>\n",
       "      <td>377</td>\n",
       "      <td>377</td>\n",
       "      <td>377</td>\n",
       "      <td>377</td>\n",
       "      <td>377</td>\n",
       "      <td>377</td>\n",
       "    </tr>\n",
       "    <tr>\n",
       "      <th>2016</th>\n",
       "      <td>381</td>\n",
       "      <td>381</td>\n",
       "      <td>381</td>\n",
       "      <td>381</td>\n",
       "      <td>381</td>\n",
       "      <td>381</td>\n",
       "      <td>381</td>\n",
       "      <td>381</td>\n",
       "      <td>381</td>\n",
       "      <td>381</td>\n",
       "      <td>381</td>\n",
       "      <td>381</td>\n",
       "      <td>381</td>\n",
       "    </tr>\n",
       "    <tr>\n",
       "      <th>2017</th>\n",
       "      <td>384</td>\n",
       "      <td>384</td>\n",
       "      <td>384</td>\n",
       "      <td>384</td>\n",
       "      <td>384</td>\n",
       "      <td>384</td>\n",
       "      <td>384</td>\n",
       "      <td>384</td>\n",
       "      <td>384</td>\n",
       "      <td>384</td>\n",
       "      <td>384</td>\n",
       "      <td>384</td>\n",
       "      <td>384</td>\n",
       "    </tr>\n",
       "    <tr>\n",
       "      <th>2018</th>\n",
       "      <td>384</td>\n",
       "      <td>384</td>\n",
       "      <td>384</td>\n",
       "      <td>384</td>\n",
       "      <td>384</td>\n",
       "      <td>384</td>\n",
       "      <td>384</td>\n",
       "      <td>384</td>\n",
       "      <td>384</td>\n",
       "      <td>384</td>\n",
       "      <td>384</td>\n",
       "      <td>384</td>\n",
       "      <td>384</td>\n",
       "    </tr>\n",
       "  </tbody>\n",
       "</table>\n",
       "</div>"
      ],
      "text/plain": [
       "        date  day  hours  odds_a  odds_b  odds_draw  outcome_effectif  \\\n",
       "season                                                                  \n",
       "2004     377  377    377     377     377        377               377   \n",
       "2005     379  379    379     379     379        379               379   \n",
       "2006     378  378    378     378     378        378               378   \n",
       "2007     380  380    380     380     380        380               380   \n",
       "2008     380  380    380     380     380        380               380   \n",
       "2009     377  377    377     377     377        377               377   \n",
       "2010     380  380    380     380     380        380               380   \n",
       "2011     380  380    380     380     380        380               380   \n",
       "2012     380  380    380     380     380        380               380   \n",
       "2013     379  379    379     379     379        379               379   \n",
       "2014     380  380    380     380     380        380               380   \n",
       "2015     377  377    377     377     377        377               377   \n",
       "2016     381  381    381     381     381        381               381   \n",
       "2017     384  384    384     384     384        384               384   \n",
       "2018     384  384    384     384     384        384               384   \n",
       "\n",
       "        outcome_odds  prediction_odds  score_a  score_b  team_a  team_b  \n",
       "season                                                                   \n",
       "2004             377              377      377      377     377     377  \n",
       "2005             379              379      379      379     379     379  \n",
       "2006             378              378      378      378     378     378  \n",
       "2007             380              380      380      380     380     380  \n",
       "2008             380              380      380      380     380     380  \n",
       "2009             377              377      377      377     377     377  \n",
       "2010             380              380      380      380     380     380  \n",
       "2011             380              380      380      380     380     380  \n",
       "2012             380              380      380      380     380     380  \n",
       "2013             379              379      379      379     379     379  \n",
       "2014             380              380      380      380     380     380  \n",
       "2015             377              377      377      377     377     377  \n",
       "2016             381              381      381      381     381     381  \n",
       "2017             384              384      384      384     384     384  \n",
       "2018             384              384      384      384     384     384  "
      ]
     },
     "execution_count": 196,
     "metadata": {},
     "output_type": "execute_result"
    }
   ],
   "source": [
    "df.groupby(\"season\").count()"
   ]
  },
  {
   "cell_type": "code",
   "execution_count": 197,
   "metadata": {},
   "outputs": [
    {
     "name": "stdout",
     "output_type": "stream",
     "text": [
      "(379, 14)\n",
      "(380, 14)\n",
      "(380, 14)\n"
     ]
    }
   ],
   "source": [
    "mydict[\"2016\"] = mydict[\"2016\"].drop(mydict[\"2016\"].index[[0,1]])\n",
    "mydict[\"2017\"] = mydict[\"2017\"].drop(mydict[\"2017\"].index[[0,1,2,13]])\n",
    "mydict[\"2018\"] = mydict[\"2018\"].drop(mydict[\"2018\"].index[[0,1,12,13]])\n",
    "# Verification de la cohérence :\n",
    "print(mydict[\"2016\"].shape)\n",
    "print(mydict[\"2017\"].shape)\n",
    "print(mydict[\"2018\"].shape)"
   ]
  },
  {
   "cell_type": "markdown",
   "metadata": {},
   "source": [
    "## 2. Exploration de la base"
   ]
  },
  {
   "cell_type": "code",
   "execution_count": 198,
   "metadata": {},
   "outputs": [
    {
     "name": "stdout",
     "output_type": "stream",
     "text": [
      "(5686, 14)\n"
     ]
    },
    {
     "data": {
      "text/html": [
       "<div>\n",
       "<style scoped>\n",
       "    .dataframe tbody tr th:only-of-type {\n",
       "        vertical-align: middle;\n",
       "    }\n",
       "\n",
       "    .dataframe tbody tr th {\n",
       "        vertical-align: top;\n",
       "    }\n",
       "\n",
       "    .dataframe thead th {\n",
       "        text-align: right;\n",
       "    }\n",
       "</style>\n",
       "<table border=\"1\" class=\"dataframe\">\n",
       "  <thead>\n",
       "    <tr style=\"text-align: right;\">\n",
       "      <th></th>\n",
       "      <th>date</th>\n",
       "      <th>day</th>\n",
       "      <th>hours</th>\n",
       "      <th>odds_a</th>\n",
       "      <th>odds_b</th>\n",
       "      <th>odds_draw</th>\n",
       "      <th>outcome_effectif</th>\n",
       "      <th>outcome_odds</th>\n",
       "      <th>prediction_odds</th>\n",
       "      <th>score_a</th>\n",
       "      <th>score_b</th>\n",
       "      <th>season</th>\n",
       "      <th>team_a</th>\n",
       "      <th>team_b</th>\n",
       "    </tr>\n",
       "  </thead>\n",
       "  <tbody>\n",
       "    <tr>\n",
       "      <th>5426</th>\n",
       "      <td>2005-05-28 18:00:00</td>\n",
       "      <td>Saturday</td>\n",
       "      <td>18:00</td>\n",
       "      <td>1.47</td>\n",
       "      <td>5.72</td>\n",
       "      <td>3.76</td>\n",
       "      <td>HOME</td>\n",
       "      <td>HOME</td>\n",
       "      <td>1</td>\n",
       "      <td>3</td>\n",
       "      <td>1</td>\n",
       "      <td>2004</td>\n",
       "      <td>AC Ajaccio</td>\n",
       "      <td>Sochaux</td>\n",
       "    </tr>\n",
       "    <tr>\n",
       "      <th>5427</th>\n",
       "      <td>2005-05-28 18:00:00</td>\n",
       "      <td>Saturday</td>\n",
       "      <td>18:00</td>\n",
       "      <td>2.68</td>\n",
       "      <td>2.72</td>\n",
       "      <td>2.69</td>\n",
       "      <td>AWAY</td>\n",
       "      <td>HOME</td>\n",
       "      <td>0</td>\n",
       "      <td>1</td>\n",
       "      <td>3</td>\n",
       "      <td>2004</td>\n",
       "      <td>Auxerre</td>\n",
       "      <td>Lille</td>\n",
       "    </tr>\n",
       "    <tr>\n",
       "      <th>5428</th>\n",
       "      <td>2005-05-28 18:00:00</td>\n",
       "      <td>Saturday</td>\n",
       "      <td>18:00</td>\n",
       "      <td>2.37</td>\n",
       "      <td>3.14</td>\n",
       "      <td>2.69</td>\n",
       "      <td>DRAW</td>\n",
       "      <td>HOME</td>\n",
       "      <td>0</td>\n",
       "      <td>3</td>\n",
       "      <td>3</td>\n",
       "      <td>2004</td>\n",
       "      <td>Bordeaux</td>\n",
       "      <td>Marseille</td>\n",
       "    </tr>\n",
       "    <tr>\n",
       "      <th>5429</th>\n",
       "      <td>2005-05-28 18:00:00</td>\n",
       "      <td>Saturday</td>\n",
       "      <td>18:00</td>\n",
       "      <td>5.83</td>\n",
       "      <td>1.48</td>\n",
       "      <td>3.68</td>\n",
       "      <td>HOME</td>\n",
       "      <td>AWAY</td>\n",
       "      <td>0</td>\n",
       "      <td>3</td>\n",
       "      <td>2</td>\n",
       "      <td>2004</td>\n",
       "      <td>Istres</td>\n",
       "      <td>Caen</td>\n",
       "    </tr>\n",
       "    <tr>\n",
       "      <th>5430</th>\n",
       "      <td>2005-05-28 18:00:00</td>\n",
       "      <td>Saturday</td>\n",
       "      <td>18:00</td>\n",
       "      <td>1.63</td>\n",
       "      <td>4.99</td>\n",
       "      <td>3.30</td>\n",
       "      <td>HOME</td>\n",
       "      <td>HOME</td>\n",
       "      <td>1</td>\n",
       "      <td>1</td>\n",
       "      <td>0</td>\n",
       "      <td>2004</td>\n",
       "      <td>Lens</td>\n",
       "      <td>Toulouse</td>\n",
       "    </tr>\n",
       "  </tbody>\n",
       "</table>\n",
       "</div>"
      ],
      "text/plain": [
       "                     date       day  hours  odds_a  odds_b  odds_draw  \\\n",
       "5426  2005-05-28 18:00:00  Saturday  18:00    1.47    5.72       3.76   \n",
       "5427  2005-05-28 18:00:00  Saturday  18:00    2.68    2.72       2.69   \n",
       "5428  2005-05-28 18:00:00  Saturday  18:00    2.37    3.14       2.69   \n",
       "5429  2005-05-28 18:00:00  Saturday  18:00    5.83    1.48       3.68   \n",
       "5430  2005-05-28 18:00:00  Saturday  18:00    1.63    4.99       3.30   \n",
       "\n",
       "     outcome_effectif outcome_odds  prediction_odds  score_a  score_b season  \\\n",
       "5426             HOME         HOME                1        3        1   2004   \n",
       "5427             AWAY         HOME                0        1        3   2004   \n",
       "5428             DRAW         HOME                0        3        3   2004   \n",
       "5429             HOME         AWAY                0        3        2   2004   \n",
       "5430             HOME         HOME                1        1        0   2004   \n",
       "\n",
       "          team_a     team_b  \n",
       "5426  AC Ajaccio    Sochaux  \n",
       "5427     Auxerre      Lille  \n",
       "5428    Bordeaux  Marseille  \n",
       "5429      Istres       Caen  \n",
       "5430        Lens   Toulouse  "
      ]
     },
     "execution_count": 198,
     "metadata": {},
     "output_type": "execute_result"
    }
   ],
   "source": [
    "df_work = pd.concat([mydict[key] for key in mydict.keys()])\n",
    "print(df_work.shape)\n",
    "df_work.head()"
   ]
  },
  {
   "cell_type": "markdown",
   "metadata": {},
   "source": [
    "### 2.1. Variables quantitatives"
   ]
  },
  {
   "cell_type": "code",
   "execution_count": 199,
   "metadata": {},
   "outputs": [
    {
     "data": {
      "text/html": [
       "<div>\n",
       "<style scoped>\n",
       "    .dataframe tbody tr th:only-of-type {\n",
       "        vertical-align: middle;\n",
       "    }\n",
       "\n",
       "    .dataframe tbody tr th {\n",
       "        vertical-align: top;\n",
       "    }\n",
       "\n",
       "    .dataframe thead th {\n",
       "        text-align: right;\n",
       "    }\n",
       "</style>\n",
       "<table border=\"1\" class=\"dataframe\">\n",
       "  <thead>\n",
       "    <tr style=\"text-align: right;\">\n",
       "      <th></th>\n",
       "      <th>odds_a</th>\n",
       "      <th>odds_b</th>\n",
       "      <th>odds_draw</th>\n",
       "      <th>prediction_odds</th>\n",
       "      <th>score_a</th>\n",
       "      <th>score_b</th>\n",
       "    </tr>\n",
       "  </thead>\n",
       "  <tbody>\n",
       "    <tr>\n",
       "      <th>count</th>\n",
       "      <td>5686.000000</td>\n",
       "      <td>5686.000000</td>\n",
       "      <td>5686.000000</td>\n",
       "      <td>5686.000000</td>\n",
       "      <td>5686.000000</td>\n",
       "      <td>5686.000000</td>\n",
       "    </tr>\n",
       "    <tr>\n",
       "      <th>mean</th>\n",
       "      <td>2.412117</td>\n",
       "      <td>4.422066</td>\n",
       "      <td>3.464342</td>\n",
       "      <td>0.500703</td>\n",
       "      <td>1.405733</td>\n",
       "      <td>1.015652</td>\n",
       "    </tr>\n",
       "    <tr>\n",
       "      <th>std</th>\n",
       "      <td>1.339326</td>\n",
       "      <td>2.969340</td>\n",
       "      <td>0.952269</td>\n",
       "      <td>0.500043</td>\n",
       "      <td>1.200921</td>\n",
       "      <td>1.056837</td>\n",
       "    </tr>\n",
       "    <tr>\n",
       "      <th>min</th>\n",
       "      <td>1.040000</td>\n",
       "      <td>1.110000</td>\n",
       "      <td>2.380000</td>\n",
       "      <td>0.000000</td>\n",
       "      <td>0.000000</td>\n",
       "      <td>0.000000</td>\n",
       "    </tr>\n",
       "    <tr>\n",
       "      <th>25%</th>\n",
       "      <td>1.740000</td>\n",
       "      <td>2.830000</td>\n",
       "      <td>3.040000</td>\n",
       "      <td>0.000000</td>\n",
       "      <td>1.000000</td>\n",
       "      <td>0.000000</td>\n",
       "    </tr>\n",
       "    <tr>\n",
       "      <th>50%</th>\n",
       "      <td>2.120000</td>\n",
       "      <td>3.675000</td>\n",
       "      <td>3.200000</td>\n",
       "      <td>1.000000</td>\n",
       "      <td>1.000000</td>\n",
       "      <td>1.000000</td>\n",
       "    </tr>\n",
       "    <tr>\n",
       "      <th>75%</th>\n",
       "      <td>2.610000</td>\n",
       "      <td>5.060000</td>\n",
       "      <td>3.510000</td>\n",
       "      <td>1.000000</td>\n",
       "      <td>2.000000</td>\n",
       "      <td>2.000000</td>\n",
       "    </tr>\n",
       "    <tr>\n",
       "      <th>max</th>\n",
       "      <td>28.980000</td>\n",
       "      <td>48.260000</td>\n",
       "      <td>18.070000</td>\n",
       "      <td>1.000000</td>\n",
       "      <td>9.000000</td>\n",
       "      <td>9.000000</td>\n",
       "    </tr>\n",
       "  </tbody>\n",
       "</table>\n",
       "</div>"
      ],
      "text/plain": [
       "            odds_a       odds_b    odds_draw  prediction_odds      score_a  \\\n",
       "count  5686.000000  5686.000000  5686.000000      5686.000000  5686.000000   \n",
       "mean      2.412117     4.422066     3.464342         0.500703     1.405733   \n",
       "std       1.339326     2.969340     0.952269         0.500043     1.200921   \n",
       "min       1.040000     1.110000     2.380000         0.000000     0.000000   \n",
       "25%       1.740000     2.830000     3.040000         0.000000     1.000000   \n",
       "50%       2.120000     3.675000     3.200000         1.000000     1.000000   \n",
       "75%       2.610000     5.060000     3.510000         1.000000     2.000000   \n",
       "max      28.980000    48.260000    18.070000         1.000000     9.000000   \n",
       "\n",
       "           score_b  \n",
       "count  5686.000000  \n",
       "mean      1.015652  \n",
       "std       1.056837  \n",
       "min       0.000000  \n",
       "25%       0.000000  \n",
       "50%       1.000000  \n",
       "75%       2.000000  \n",
       "max       9.000000  "
      ]
     },
     "execution_count": 199,
     "metadata": {},
     "output_type": "execute_result"
    }
   ],
   "source": [
    "df_work.describe()"
   ]
  },
  {
   "cell_type": "markdown",
   "metadata": {},
   "source": [
    "Commençons par la description des variables quantitatives. L'équipe à domicile inscrit en moyenne plus de buts que l'équipe à l'extérieur. En revanche, les médianes sont égales, ce qui signifie que les deux équipes s'affrontant inscrivent au plus 1 but dans plus de la moitié des matches considérés. Cela confirme l'analyse souvent faite de la Ligue 1, à savoir qu'il s'agit d'un championnat où la rigueur tactique et défensive est plus importante que l'animation offensive. On observe également que la cote de l'équipe évoluant à domicile est en moyenne inférieure à celle de l'équipe jouant à l'extérieur."
   ]
  },
  {
   "cell_type": "code",
   "execution_count": 200,
   "metadata": {},
   "outputs": [
    {
     "data": {
      "image/png": "[encoded data removed]",
      "text/plain": [
       "<Figure size 432x288 with 1 Axes>"
      ]
     },
     "metadata": {
      "needs_background": "light"
     },
     "output_type": "display_data"
    },
    {
     "data": {
      "image/png": "[encoded data removed]",
      "text/plain": [
       "<Figure size 432x288 with 1 Axes>"
      ]
     },
     "metadata": {
      "needs_background": "light"
     },
     "output_type": "display_data"
    }
   ],
   "source": [
    "plt.hist(df_work[['score_a', 'score_b']].values, range(9), alpha=0.6, label=['Domicile', 'Extérieur'],\n",
    "         density=True, color=[\"darkblue\", \"darkorange\"])\n",
    "leg=plt.legend(loc='upper right', fontsize=13, ncol=2)\n",
    "leg.set_title(\"Equipe\", prop = {'size':'14', 'weight':'bold'})\n",
    "plt.xticks([i-0.5 for i in range(1,10)],[i for i in range(9)])\n",
    "plt.xlabel(\"Buts par match\",size=15)\n",
    "plt.ylabel(\"Fréquence/proportion de matches\",size=15)\n",
    "plt.ylim([-0.005, 0.4])\n",
    "plt.tight_layout()\n",
    "plt.show()\n",
    "\n",
    "sns.distplot(df_work['odds_a'], hist = False, kde_kws = {'shade': True, 'linewidth': 2.5},\n",
    "            color = 'darkblue', label = 'Domicile')\n",
    "sns.distplot(df_work['odds_b'], hist = False, kde_kws = {'shade': True, 'linewidth': 2.5},\n",
    "            color = 'darkorange', label = 'Extérieur')\n",
    "leg=plt.legend(loc='upper right', fontsize=13, ncol=2)\n",
    "leg.set_title(\"Cotes\", prop = {'size':'15', 'weight':'bold'})\n",
    "plt.xlabel(\"Distribution des cotes\",size=15)\n",
    "plt.ylabel(\"Densité\",size=15)\n",
    "plt.xlim(0, 15)\n",
    "plt.ylim([-0.005, None])\n",
    "plt.tight_layout()\n",
    "plt.show()"
   ]
  },
  {
   "cell_type": "markdown",
   "metadata": {},
   "source": [
    "L'analyse graphique montre clairement que les cotes attribuées par les bookmakers ne suivent pas une distribution gaussienne (on pourrait le tester statistiquement mais le skew positif des deux distributions ne laisse aucun doute là-dessus). Ainsi, nous décidons de mettre en place un test non-paramétrique (test de Wilcoxon-Mann-Whitney) afin de tester statistiquement la différence entre les cotes attribuées à l'équipe à domicile et celles attribuées à l'équipe à l'extérieur. Plusieurs versions du test existent selon que l'on considère les échantillons étudiés comme indépendants ou non. Nous devons donc déterminer ce qu'il en est dans notre cas afin de choisir le test le plus approprié."
   ]
  },
  {
   "cell_type": "code",
   "execution_count": 201,
   "metadata": {},
   "outputs": [
    {
     "data": {
      "text/plain": [
       "(-0.47066896272818276, 1.8288959322398e-311)"
      ]
     },
     "execution_count": 201,
     "metadata": {},
     "output_type": "execute_result"
    }
   ],
   "source": [
    "pearsonr(df_work['odds_a'],df_work['odds_b']) # mesure linéaire de la corrélation"
   ]
  },
  {
   "cell_type": "code",
   "execution_count": 202,
   "metadata": {},
   "outputs": [
    {
     "data": {
      "text/plain": [
       "SpearmanrResult(correlation=-0.991905239416012, pvalue=0.0)"
      ]
     },
     "execution_count": 202,
     "metadata": {},
     "output_type": "execute_result"
    }
   ],
   "source": [
    "spearmanr(df_work['odds_a'],df_work['odds_b']) # mesure non linéaire, plus adaptée au vu du graph"
   ]
  },
  {
   "cell_type": "code",
   "execution_count": 203,
   "metadata": {},
   "outputs": [
    {
     "data": {
      "image/png": "[encoded data removed]",
      "text/plain": [
       "<Figure size 432x288 with 1 Axes>"
      ]
     },
     "metadata": {
      "needs_background": "light"
     },
     "output_type": "display_data"
    }
   ],
   "source": [
    "plt.scatter(df_work['odds_b'], df_work['odds_a'], alpha=0.4)\n",
    "plt.xlabel(\"Cotes extérieur\",size=15)\n",
    "plt.ylabel(\"Cotes domicile\",size=15)\n",
    "plt.xlim(0, 30)\n",
    "plt.ylim([0, 30])\n",
    "plt.tight_layout()\n",
    "plt.show()"
   ]
  },
  {
   "cell_type": "markdown",
   "metadata": {},
   "source": [
    "Comme on pouvait s'y attendre, les cotes de l'équipe à domicile et celle à l'extérieur sont dépendantes : plus la cote d'une équipe est forte, plus celle de son adversaire est faible. Nous mettons donc en place un test des rangs signés de Wilcoxon."
   ]
  },
  {
   "cell_type": "code",
   "execution_count": 204,
   "metadata": {},
   "outputs": [
    {
     "data": {
      "text/plain": [
       "WilcoxonResult(statistic=2629229.0, pvalue=0.0)"
      ]
     },
     "execution_count": 204,
     "metadata": {},
     "output_type": "execute_result"
    }
   ],
   "source": [
    "wilcoxon(df_work['odds_a'], df_work['odds_b'])"
   ]
  },
  {
   "cell_type": "markdown",
   "metadata": {},
   "source": [
    "L'hypothèse nulle des tests de Wilcoxon-Mann-Whitney est que les deux échantillons étudiés sont issus de la même distribution. Ici, nous avons $p-value = 0.00$, ce qui nous amène à rejeter l'hypothèse nulle pour tous les niveaux de confiance $\\alpha$."
   ]
  },
  {
   "cell_type": "markdown",
   "metadata": {},
   "source": [
    "### 2.2. Variables qualitatives"
   ]
  },
  {
   "cell_type": "code",
   "execution_count": 205,
   "metadata": {},
   "outputs": [
    {
     "name": "stdout",
     "output_type": "stream",
     "text": [
      "HOME    0.452339\n",
      "AWAY    0.259761\n",
      "DRAW    0.287900\n",
      "Name: outcome_effectif, dtype: float64\n",
      "HOME    0.780689\n",
      "AWAY    0.218431\n",
      "DRAW    0.000879\n",
      "Name: outcome_odds, dtype: float64\n"
     ]
    },
    {
     "data": {
      "text/html": [
       "<div>\n",
       "<style scoped>\n",
       "    .dataframe tbody tr th:only-of-type {\n",
       "        vertical-align: middle;\n",
       "    }\n",
       "\n",
       "    .dataframe tbody tr th {\n",
       "        vertical-align: top;\n",
       "    }\n",
       "\n",
       "    .dataframe thead th {\n",
       "        text-align: right;\n",
       "    }\n",
       "</style>\n",
       "<table border=\"1\" class=\"dataframe\">\n",
       "  <thead>\n",
       "    <tr style=\"text-align: right;\">\n",
       "      <th>outcome_odds</th>\n",
       "      <th>AWAY</th>\n",
       "      <th>DRAW</th>\n",
       "      <th>HOME</th>\n",
       "    </tr>\n",
       "    <tr>\n",
       "      <th>outcome_effectif</th>\n",
       "      <th></th>\n",
       "      <th></th>\n",
       "      <th></th>\n",
       "    </tr>\n",
       "  </thead>\n",
       "  <tbody>\n",
       "    <tr>\n",
       "      <th>AWAY</th>\n",
       "      <td>589</td>\n",
       "      <td>1</td>\n",
       "      <td>887</td>\n",
       "    </tr>\n",
       "    <tr>\n",
       "      <th>DRAW</th>\n",
       "      <td>337</td>\n",
       "      <td>3</td>\n",
       "      <td>1297</td>\n",
       "    </tr>\n",
       "    <tr>\n",
       "      <th>HOME</th>\n",
       "      <td>316</td>\n",
       "      <td>1</td>\n",
       "      <td>2255</td>\n",
       "    </tr>\n",
       "  </tbody>\n",
       "</table>\n",
       "</div>"
      ],
      "text/plain": [
       "outcome_odds      AWAY  DRAW  HOME\n",
       "outcome_effectif                  \n",
       "AWAY               589     1   887\n",
       "DRAW               337     3  1297\n",
       "HOME               316     1  2255"
      ]
     },
     "execution_count": 205,
     "metadata": {},
     "output_type": "execute_result"
    }
   ],
   "source": [
    "print(df_work['outcome_effectif'].value_counts(normalize = True, sort = False))\n",
    "print(df_work['outcome_odds'].value_counts(normalize = True, sort = False))\n",
    "cont_table = pd.crosstab(df_work['outcome_effectif'],df_work['outcome_odds']) # table de contingence\n",
    "cont_table"
   ]
  },
  {
   "cell_type": "markdown",
   "metadata": {},
   "source": [
    "Pour ce qui est des variables qualitatives, on remarque que sur la périodé étudiée, l'évènement le plus probable d'après les bookmakers s'est effectivement réalisé dans seulement 50% des cas (afin de simplifier la rédaction et la lecture de la suite du document, nous dirons désormais que les bookmakers se sont trompés en moyenne une fois sur deux). Plus précisément, alors que 28% des matches joués ont débouché sur un match nul, les bookmaker ont attribué la cote la plus élevée à cette issue dans moins de 1% des cas (5 matches). Cette sousestimation s'explique par la tendance des bookmakers à surestimer la probabilité de victoire des équipes évoluant à domicile.\n",
    "\n",
    "Pour aller plus loin, nous allons tester statistiquement l'existence d'un lien entre les modalités prises par les deux variables de la table de contingence. Autrement dit, nous allons tester l'indépendance entre les deux variables. Pour cela, nous mettons en place un test du $\\chi^{2}$ :"
   ]
  },
  {
   "cell_type": "code",
   "execution_count": 206,
   "metadata": {},
   "outputs": [
    {
     "data": {
      "text/plain": [
       "(423.2134063769661,\n",
       " 2.6788810159513117e-90,\n",
       " 4,\n",
       " array([[3.22622934e+02, 1.29880408e+00, 1.15307826e+03],\n",
       "        [3.57571931e+02, 1.43950053e+00, 1.27798857e+03],\n",
       "        [5.61805135e+02, 2.26169539e+00, 2.00793317e+03]]))"
      ]
     },
     "execution_count": 206,
     "metadata": {},
     "output_type": "execute_result"
    }
   ],
   "source": [
    "freq = np.array([cont_table.iloc[0].values,\n",
    "                  cont_table.iloc[1].values,\n",
    "                  cont_table.iloc[2].values])\n",
    "stats.chi2_contingency(freq)"
   ]
  },
  {
   "cell_type": "markdown",
   "metadata": {},
   "source": [
    "L'hypothèse nulle d'un test du $\\chi^{2}$ est que les lignes et les colonnes de la table de contingence sont indépendantes. Ici, nous avons $p-value = 0.00$, ce qui nous amène à rejeter l'hypothèse nulle pour tous les niveaux de confiance $\\alpha$.  Bien que concordant avec nos attentes, nous ne pouvons toutefois pas nous fier pleinement à notre test du fait de la faiblesse de certains des effectifs théoriques utilisés lors du calcul de la statistique de test."
   ]
  },
  {
   "cell_type": "markdown",
   "metadata": {},
   "source": [
    "## 3. Analyse des cotes des bookmakers"
   ]
  },
  {
   "cell_type": "markdown",
   "metadata": {},
   "source": [
    "L'intérêt de cette partie va être d'étudier la justesse des prévisions des bookmarkers. Pour se faire, nous allons simplement calculer les gains obtenus pour une mise de 10€ sur chaque match en se fiant aux prévisions des bookmakers. Nous allons ensuite comparer les gains obtenus avec ceux résultant d'une stratégie qui consisterait à toujours parier sur l'équipe à domicile, toujours parier sur l'équipe à l'extérieur, toujours parier match nul. Nous avons déjà noté que les bookmakers se trompent en moyenne une fois sur deux sur la période considérée, nous pourrons également évaluer s'ils tendent à s'améliorer à mesure que les saisons passent et que de nouvelles informations sont disponibles.\n",
    "\n",
    "Nous commençons donc par créer une nouvelle colonne qui, pour chaque match, nous donne le gain résultant d'une mise de 10€ suivant la stratégie choisie :"
   ]
  },
  {
   "cell_type": "code",
   "execution_count": 207,
   "metadata": {},
   "outputs": [
    {
     "name": "stdout",
     "output_type": "stream",
     "text": [
      "[1.47, 2.72, 2.69, 5.83, 1.63]\n"
     ]
    }
   ],
   "source": [
    "# Stratégie : suivre les bookmakers\n",
    "odds_true = [None]*df_work.shape[0]\n",
    "for i in range(0,df_work.shape[0]) :\n",
    "    if df_work['outcome_effectif'].iloc[i] == 'HOME' :\n",
    "        odds_true[i] = df_work['odds_a'].iloc[i]\n",
    "    elif df_work['outcome_effectif'].iloc[i] == 'AWAY':\n",
    "        odds_true[i] = df_work['odds_b'].iloc[i]\n",
    "    else :\n",
    "        odds_true[i] = df_work['odds_draw'].iloc[i]   \n",
    "        \n",
    "print(odds_true[0:5])\n",
    "\n",
    "book_strat = [None]*df_work.shape[0]\n",
    "for i in range(0,df_work.shape[0]) :\n",
    "    if df_work['prediction_odds'].iloc[i] == 1 :\n",
    "        book_strat[i] = 10*(odds_true[i]-1)\n",
    "    else :\n",
    "        book_strat[i] = -10\n",
    "        \n",
    "df_work['book_strat_gain'] = book_strat"
   ]
  },
  {
   "cell_type": "code",
   "execution_count": 208,
   "metadata": {},
   "outputs": [],
   "source": [
    "# Stratégie : toujours parier sur l'équipe à domicile\n",
    "dom_strat = [None]*df_work.shape[0]\n",
    "for i in range(0,df_work.shape[0]) :\n",
    "    if df_work['outcome_effectif'].iloc[i] == 'HOME' :\n",
    "        dom_strat[i] = 10*(df_work['odds_a'].iloc[i]-1)\n",
    "    else :\n",
    "        dom_strat[i] = -10\n",
    "df_work['dom_strat_gain'] = dom_strat\n",
    "\n",
    "    \n",
    "# Stratégie : toujours parier sur l'équipe à l'extérieur\n",
    "ext_strat = [None]*df_work.shape[0]\n",
    "for i in range(0,df_work.shape[0]) :\n",
    "    if df_work['outcome_effectif'].iloc[i] == 'AWAY' :\n",
    "        ext_strat[i] = 10*(df_work['odds_b'].iloc[i]-1)\n",
    "    else : \n",
    "        ext_strat[i] = -10\n",
    "df_work['ext_strat_gain'] = ext_strat\n",
    "    \n",
    "# Stratégie : toujours parier sur le match nul\n",
    "draw_strat = [None]*df_work.shape[0]\n",
    "for i in range(0,df_work.shape[0]) :\n",
    "    if df_work['outcome_effectif'].iloc[i] == 'DRAW' :\n",
    "        draw_strat[i] = 10*(df_work['odds_draw'].iloc[i]-1)\n",
    "    else :\n",
    "        draw_strat[i] = -10\n",
    "df_work['draw_strat_gain'] = draw_strat"
   ]
  },
  {
   "cell_type": "markdown",
   "metadata": {},
   "source": [
    "On vérifie la cohérence des manipulations sur les premières observations du dataframe puis on calcule la somme des gains pour chaque stratégie :"
   ]
  },
  {
   "cell_type": "code",
   "execution_count": 209,
   "metadata": {},
   "outputs": [
    {
     "data": {
      "text/html": [
       "<div>\n",
       "<style scoped>\n",
       "    .dataframe tbody tr th:only-of-type {\n",
       "        vertical-align: middle;\n",
       "    }\n",
       "\n",
       "    .dataframe tbody tr th {\n",
       "        vertical-align: top;\n",
       "    }\n",
       "\n",
       "    .dataframe thead th {\n",
       "        text-align: right;\n",
       "    }\n",
       "</style>\n",
       "<table border=\"1\" class=\"dataframe\">\n",
       "  <thead>\n",
       "    <tr style=\"text-align: right;\">\n",
       "      <th></th>\n",
       "      <th>date</th>\n",
       "      <th>day</th>\n",
       "      <th>hours</th>\n",
       "      <th>odds_a</th>\n",
       "      <th>odds_b</th>\n",
       "      <th>odds_draw</th>\n",
       "      <th>outcome_effectif</th>\n",
       "      <th>outcome_odds</th>\n",
       "      <th>prediction_odds</th>\n",
       "      <th>score_a</th>\n",
       "      <th>score_b</th>\n",
       "      <th>season</th>\n",
       "      <th>team_a</th>\n",
       "      <th>team_b</th>\n",
       "      <th>book_strat_gain</th>\n",
       "      <th>dom_strat_gain</th>\n",
       "      <th>ext_strat_gain</th>\n",
       "      <th>draw_strat_gain</th>\n",
       "    </tr>\n",
       "  </thead>\n",
       "  <tbody>\n",
       "    <tr>\n",
       "      <th>5426</th>\n",
       "      <td>2005-05-28 18:00:00</td>\n",
       "      <td>Saturday</td>\n",
       "      <td>18:00</td>\n",
       "      <td>1.47</td>\n",
       "      <td>5.72</td>\n",
       "      <td>3.76</td>\n",
       "      <td>HOME</td>\n",
       "      <td>HOME</td>\n",
       "      <td>1</td>\n",
       "      <td>3</td>\n",
       "      <td>1</td>\n",
       "      <td>2004</td>\n",
       "      <td>AC Ajaccio</td>\n",
       "      <td>Sochaux</td>\n",
       "      <td>4.7</td>\n",
       "      <td>4.7</td>\n",
       "      <td>-10.0</td>\n",
       "      <td>-10.0</td>\n",
       "    </tr>\n",
       "    <tr>\n",
       "      <th>5427</th>\n",
       "      <td>2005-05-28 18:00:00</td>\n",
       "      <td>Saturday</td>\n",
       "      <td>18:00</td>\n",
       "      <td>2.68</td>\n",
       "      <td>2.72</td>\n",
       "      <td>2.69</td>\n",
       "      <td>AWAY</td>\n",
       "      <td>HOME</td>\n",
       "      <td>0</td>\n",
       "      <td>1</td>\n",
       "      <td>3</td>\n",
       "      <td>2004</td>\n",
       "      <td>Auxerre</td>\n",
       "      <td>Lille</td>\n",
       "      <td>-10.0</td>\n",
       "      <td>-10.0</td>\n",
       "      <td>17.2</td>\n",
       "      <td>-10.0</td>\n",
       "    </tr>\n",
       "    <tr>\n",
       "      <th>5428</th>\n",
       "      <td>2005-05-28 18:00:00</td>\n",
       "      <td>Saturday</td>\n",
       "      <td>18:00</td>\n",
       "      <td>2.37</td>\n",
       "      <td>3.14</td>\n",
       "      <td>2.69</td>\n",
       "      <td>DRAW</td>\n",
       "      <td>HOME</td>\n",
       "      <td>0</td>\n",
       "      <td>3</td>\n",
       "      <td>3</td>\n",
       "      <td>2004</td>\n",
       "      <td>Bordeaux</td>\n",
       "      <td>Marseille</td>\n",
       "      <td>-10.0</td>\n",
       "      <td>-10.0</td>\n",
       "      <td>-10.0</td>\n",
       "      <td>16.9</td>\n",
       "    </tr>\n",
       "    <tr>\n",
       "      <th>5429</th>\n",
       "      <td>2005-05-28 18:00:00</td>\n",
       "      <td>Saturday</td>\n",
       "      <td>18:00</td>\n",
       "      <td>5.83</td>\n",
       "      <td>1.48</td>\n",
       "      <td>3.68</td>\n",
       "      <td>HOME</td>\n",
       "      <td>AWAY</td>\n",
       "      <td>0</td>\n",
       "      <td>3</td>\n",
       "      <td>2</td>\n",
       "      <td>2004</td>\n",
       "      <td>Istres</td>\n",
       "      <td>Caen</td>\n",
       "      <td>-10.0</td>\n",
       "      <td>48.3</td>\n",
       "      <td>-10.0</td>\n",
       "      <td>-10.0</td>\n",
       "    </tr>\n",
       "    <tr>\n",
       "      <th>5430</th>\n",
       "      <td>2005-05-28 18:00:00</td>\n",
       "      <td>Saturday</td>\n",
       "      <td>18:00</td>\n",
       "      <td>1.63</td>\n",
       "      <td>4.99</td>\n",
       "      <td>3.30</td>\n",
       "      <td>HOME</td>\n",
       "      <td>HOME</td>\n",
       "      <td>1</td>\n",
       "      <td>1</td>\n",
       "      <td>0</td>\n",
       "      <td>2004</td>\n",
       "      <td>Lens</td>\n",
       "      <td>Toulouse</td>\n",
       "      <td>6.3</td>\n",
       "      <td>6.3</td>\n",
       "      <td>-10.0</td>\n",
       "      <td>-10.0</td>\n",
       "    </tr>\n",
       "  </tbody>\n",
       "</table>\n",
       "</div>"
      ],
      "text/plain": [
       "                     date       day  hours  odds_a  odds_b  odds_draw  \\\n",
       "5426  2005-05-28 18:00:00  Saturday  18:00    1.47    5.72       3.76   \n",
       "5427  2005-05-28 18:00:00  Saturday  18:00    2.68    2.72       2.69   \n",
       "5428  2005-05-28 18:00:00  Saturday  18:00    2.37    3.14       2.69   \n",
       "5429  2005-05-28 18:00:00  Saturday  18:00    5.83    1.48       3.68   \n",
       "5430  2005-05-28 18:00:00  Saturday  18:00    1.63    4.99       3.30   \n",
       "\n",
       "     outcome_effectif outcome_odds  prediction_odds  score_a  score_b season  \\\n",
       "5426             HOME         HOME                1        3        1   2004   \n",
       "5427             AWAY         HOME                0        1        3   2004   \n",
       "5428             DRAW         HOME                0        3        3   2004   \n",
       "5429             HOME         AWAY                0        3        2   2004   \n",
       "5430             HOME         HOME                1        1        0   2004   \n",
       "\n",
       "          team_a     team_b  book_strat_gain  dom_strat_gain  ext_strat_gain  \\\n",
       "5426  AC Ajaccio    Sochaux              4.7             4.7           -10.0   \n",
       "5427     Auxerre      Lille            -10.0           -10.0            17.2   \n",
       "5428    Bordeaux  Marseille            -10.0           -10.0           -10.0   \n",
       "5429      Istres       Caen            -10.0            48.3           -10.0   \n",
       "5430        Lens   Toulouse              6.3             6.3           -10.0   \n",
       "\n",
       "      draw_strat_gain  \n",
       "5426            -10.0  \n",
       "5427            -10.0  \n",
       "5428             16.9  \n",
       "5429            -10.0  \n",
       "5430            -10.0  "
      ]
     },
     "execution_count": 209,
     "metadata": {},
     "output_type": "execute_result"
    }
   ],
   "source": [
    "df_work.head()"
   ]
  },
  {
   "cell_type": "code",
   "execution_count": 210,
   "metadata": {},
   "outputs": [
    {
     "name": "stdout",
     "output_type": "stream",
     "text": [
      "Book strat gain = -2383.3\n",
      "Home strat gain = -3104.0\n",
      "Away strat gain = -7262.1\n",
      "Draw strat gain = -2653.7000000000003\n"
     ]
    }
   ],
   "source": [
    "print(\"Book strat gain = {}\".format(df_work['book_strat_gain'].sum()))\n",
    "print(\"Home strat gain = {}\".format(df_work['dom_strat_gain'].sum()))\n",
    "print(\"Away strat gain = {}\".format(df_work['ext_strat_gain'].sum()))\n",
    "print(\"Draw strat gain = {}\".format(df_work['draw_strat_gain'].sum()))"
   ]
  },
  {
   "cell_type": "markdown",
   "metadata": {},
   "source": [
    "Peu importe la stratégie choisie, les gains réalisés auraient été négatifs. Ce résultat peut paraitre surprenant au premier abord mais est en fait parfaitement prévisible. En effet, nous avons simulé une mise sur chacun des matches contenus dans la base, y compris ceux à l'issue incertaine. Une règle de base des paris sportifs est de ne pas parier sur l'ensemble des matches mais plutôt de cibler et suivre attentivement les performances d'un nombre très restreint d'équipes. Aussi, contrairement à d'autres championnats nationaux, les résultats de Ligue 1 sont réputés être difficiles à prédire.\n",
    "\n",
    "Afin d'affiner l'analyse, on peut reconduire la même étude mais au niveau d'un club ou encore en considérant chaque saison séparemment. Nous avons choisi de mettre en oeuvre cette dernière option. On constate que peu importe la saison considérée, les gains sont négatifs dans l'écrasante majorité des cas. A la décharge des bookmakers, on peut noter que la stratégie présentant le moins de volatilité est celle qui consisterait à suivre leurs cotes.\n",
    "\n",
    "Le gain maximum est obtenu pour la saison 2010/2011 avec la stratégie qui consisterait à toujours miser sur le match nul. C'est la saison où le LOSC est champion avec un total de points considéré comme faible (76 points) et où l'OM et l'OL arrivent respectivement 2e et 3e avec 68 et 64 points (soit très peu de points pour des prétendants au titre). Sur l'ensemble des matches joués cette saison, 35% ont débouché sur un match nul (pour rappel, la moyenne est de 28% sur la période considérée)."
   ]
  },
  {
   "cell_type": "code",
   "execution_count": 211,
   "metadata": {},
   "outputs": [],
   "source": [
    "# mydict['2010'].outcome_effectif.value_counts(normalize = True, sort = False)"
   ]
  },
  {
   "cell_type": "code",
   "execution_count": 215,
   "metadata": {},
   "outputs": [
    {
     "name": "stdout",
     "output_type": "stream",
     "text": [
      "        book_strat_gain  dom_strat_gain  ext_strat_gain  draw_strat_gain\n",
      "season                                                                  \n",
      "2004             -426.7          -260.2         -1300.1            224.3\n",
      "2005             -338.4          -439.7          -488.8           -245.9\n",
      "2006             -209.2            10.4          -714.5           -293.7\n",
      "2007             -198.8          -355.8          -474.8           -183.1\n",
      "2008              -73.2          -382.4          -307.2           -235.6\n",
      "2009             -183.6           -73.0          -106.9           -565.7\n",
      "2010             -494.4          -506.6          -693.5            530.8\n",
      "2011              -67.4           -56.6          -620.8           -218.2\n",
      "2012               36.2          -225.3          -406.4            -37.5\n",
      "2013              -18.4          -431.3          -352.0            -86.4\n",
      "2014              173.3            99.7          -287.7           -738.9\n",
      "2015             -155.9          -330.7          -145.4            -94.5\n",
      "2016               19.4           234.1          -682.6           -502.4\n",
      "2017              -42.4          -151.9          -338.3           -255.7\n",
      "2018             -403.8          -234.7          -343.1             48.8\n"
     ]
    },
    {
     "data": {
      "text/html": [
       "<div>\n",
       "<style scoped>\n",
       "    .dataframe tbody tr th:only-of-type {\n",
       "        vertical-align: middle;\n",
       "    }\n",
       "\n",
       "    .dataframe tbody tr th {\n",
       "        vertical-align: top;\n",
       "    }\n",
       "\n",
       "    .dataframe thead th {\n",
       "        text-align: right;\n",
       "    }\n",
       "</style>\n",
       "<table border=\"1\" class=\"dataframe\">\n",
       "  <thead>\n",
       "    <tr style=\"text-align: right;\">\n",
       "      <th></th>\n",
       "      <th>book_strat_gain</th>\n",
       "      <th>dom_strat_gain</th>\n",
       "      <th>ext_strat_gain</th>\n",
       "      <th>draw_strat_gain</th>\n",
       "    </tr>\n",
       "  </thead>\n",
       "  <tbody>\n",
       "    <tr>\n",
       "      <th>count</th>\n",
       "      <td>15.000000</td>\n",
       "      <td>15.000000</td>\n",
       "      <td>15.000000</td>\n",
       "      <td>15.000000</td>\n",
       "    </tr>\n",
       "    <tr>\n",
       "      <th>mean</th>\n",
       "      <td>-158.886667</td>\n",
       "      <td>-206.933333</td>\n",
       "      <td>-484.140000</td>\n",
       "      <td>-176.913333</td>\n",
       "    </tr>\n",
       "    <tr>\n",
       "      <th>std</th>\n",
       "      <td>190.947921</td>\n",
       "      <td>214.787206</td>\n",
       "      <td>294.288082</td>\n",
       "      <td>310.519815</td>\n",
       "    </tr>\n",
       "    <tr>\n",
       "      <th>min</th>\n",
       "      <td>-494.400000</td>\n",
       "      <td>-506.600000</td>\n",
       "      <td>-1300.100000</td>\n",
       "      <td>-738.900000</td>\n",
       "    </tr>\n",
       "    <tr>\n",
       "      <th>25%</th>\n",
       "      <td>-273.800000</td>\n",
       "      <td>-369.100000</td>\n",
       "      <td>-651.700000</td>\n",
       "      <td>-274.700000</td>\n",
       "    </tr>\n",
       "    <tr>\n",
       "      <th>50%</th>\n",
       "      <td>-155.900000</td>\n",
       "      <td>-234.700000</td>\n",
       "      <td>-406.400000</td>\n",
       "      <td>-218.200000</td>\n",
       "    </tr>\n",
       "    <tr>\n",
       "      <th>75%</th>\n",
       "      <td>-30.400000</td>\n",
       "      <td>-64.800000</td>\n",
       "      <td>-322.750000</td>\n",
       "      <td>-61.950000</td>\n",
       "    </tr>\n",
       "    <tr>\n",
       "      <th>max</th>\n",
       "      <td>173.300000</td>\n",
       "      <td>234.100000</td>\n",
       "      <td>-106.900000</td>\n",
       "      <td>530.800000</td>\n",
       "    </tr>\n",
       "  </tbody>\n",
       "</table>\n",
       "</div>"
      ],
      "text/plain": [
       "       book_strat_gain  dom_strat_gain  ext_strat_gain  draw_strat_gain\n",
       "count        15.000000       15.000000       15.000000        15.000000\n",
       "mean       -158.886667     -206.933333     -484.140000      -176.913333\n",
       "std         190.947921      214.787206      294.288082       310.519815\n",
       "min        -494.400000     -506.600000    -1300.100000      -738.900000\n",
       "25%        -273.800000     -369.100000     -651.700000      -274.700000\n",
       "50%        -155.900000     -234.700000     -406.400000      -218.200000\n",
       "75%         -30.400000      -64.800000     -322.750000       -61.950000\n",
       "max         173.300000      234.100000     -106.900000       530.800000"
      ]
     },
     "execution_count": 215,
     "metadata": {},
     "output_type": "execute_result"
    }
   ],
   "source": [
    "temp = df_work.groupby(\"season\").sum().iloc[:,-4:]\n",
    "print(temp)\n",
    "temp.describe() # pas de valeurs aberrantes"
   ]
  },
  {
   "cell_type": "code",
   "execution_count": 216,
   "metadata": {},
   "outputs": [
    {
     "data": {
      "image/png": "[encoded data removed]",
      "text/plain": [
       "<Figure size 432x288 with 1 Axes>"
      ]
     },
     "metadata": {
      "needs_background": "light"
     },
     "output_type": "display_data"
    }
   ],
   "source": [
    "plt.plot(range(2004,2019),temp['book_strat_gain'].values, label = \"Bookmakers\", color = \"blue\")\n",
    "plt.plot(range(2004,2019),temp['dom_strat_gain'].values, label = \"Domicile\", color = \"orange\")\n",
    "plt.plot(range(2004,2019),temp['ext_strat_gain'].values, label = \"Extérieur\", color = \"green\")\n",
    "plt.plot(range(2004,2019),temp['draw_strat_gain'].values, label = \"Nul\", color = \"red\")\n",
    "plt.axhline(y = 0, color = \"black\", linestyle = ':')\n",
    "# légende :\n",
    "leg=plt.legend(loc='upper right', fontsize=13, ncol=2)\n",
    "leg.set_title(\"Stratégies\", prop = {'size':'15', 'weight':'bold'})\n",
    "plt.xlabel(\"Saison\",size=15)\n",
    "plt.ylabel(\"Gains simulés\",size=15)\n",
    "plt.ylim([-1400, 600])\n",
    "plt.tight_layout()\n",
    "plt.show()"
   ]
  },
  {
   "cell_type": "markdown",
   "metadata": {},
   "source": [
    "## 4. Prediction du score des matches à l'aide de la loi de Poisson"
   ]
  },
  {
   "cell_type": "markdown",
   "metadata": {},
   "source": [
    "On se focalise d'abord sur une saison, à voir si ça sert vrmt à qqch d'élargir à toutes et refaire 1000 graphs."
   ]
  },
  {
   "cell_type": "code",
   "execution_count": 225,
   "metadata": {},
   "outputs": [],
   "source": [
    "mydict['2017'].sort_values('date', inplace = True)"
   ]
  },
  {
   "cell_type": "markdown",
   "metadata": {},
   "source": [
    "Soit $X$ une variable aléatoire représentant le nombre buts inscrits durant un match de Ligue 1. L'ensemble des valeurs pouvant être prises par $X$ est donc restreint à l'ensemble $\\mathbb{N}$ des entiers naturels. Aussi, tous les matchs de Ligue 1 ont une durée identique de 90 minutes. De ce fait, la loi de Poisson est un candidat idéal à la modélisation de $X$. La loi de probabilité d'une variable aléatoire $X$ suivant une loi de Poisson est donnée par : $P(X=x)=\\frac{e^{-\\lambda}\\lambda^{x}}{k!} $. Le paramètre $\\lambda$ de la loi est désigné comme étant le nombre moyen d'occurrences pendant l'intervalle de temps considéré ; soit dans notre cas le nombre moyen de buts inscrits par match. En effet, on peut facilement montrer que $\\mathbb{E}(X)=\\lambda$.\n",
    "\n",
    "Une fois la loi de probabilité choisie, il nous reste à spécifier ses paramètres. Dans le cas de la loi de Poisson, le seul paramètre à spécifier est $\\lambda$. Celui-ci va prendre la valeur moyenne du nombre de buts inscrits par l'équipe à domicile ou l'équipe à l'extérieur. Sur la période étudiée, l'équipe à domicile inscrit en moyenne 1.53 buts tandis que l'équipe à l'extérieur en inscrit 1.19. On remarque également que le nombre maximum de buts inscrits est égal à 8 pour l'équipe à domicile et 5 pour l'équipe à l'extérieur. Une fois le paramètre $\\lambda$ obtenu, on peut désormais calculer la probabilité qu'une équipe inscrit un nombre donné de buts selon qu'elle joue à domicile ou à l'extérieur. On modèlise les buts à l'extérieur et à domicile séparemment. Par exemple la probabilité que l'équipe à domicile inscrive 3 buts est égale à 13% ; la probabilité de cet évènement est de 9% pour une équipe à l'extérieur :"
   ]
  },
  {
   "cell_type": "code",
   "execution_count": 228,
   "metadata": {},
   "outputs": [
    {
     "name": "stdout",
     "output_type": "stream",
     "text": [
      "0.12912577814673956\n",
      "0.08537513565995834\n",
      "0.9999678921824233\n",
      "0.9985644299035941\n"
     ]
    }
   ],
   "source": [
    "print(poisson.pmf(3, mydict['2017'].mean()[4]))\n",
    "print(poisson.pmf(3, mydict['2017'].mean()[5]))\n",
    "print(sum(poisson.pmf(i, mydict['2017'].mean()[4]) for i in range(0,9)))\n",
    "print(sum(poisson.pmf(i, mydict['2017'].mean()[5]) for i in range(0,6)))"
   ]
  },
  {
   "cell_type": "markdown",
   "metadata": {},
   "source": [
    "On peut recalculer cette probabilité pour n'importe quel $x \\in \\mathbb{N}$, puis comparer les probabilités obtenues à l'aide la loi de Poisson avec les fréquences effectivement observées :"
   ]
  },
  {
   "cell_type": "code",
   "execution_count": 229,
   "metadata": {},
   "outputs": [
    {
     "data": {
      "text/plain": [
       "array([[2.16763720e-01, 3.04381423e-01],\n",
       "       [3.31420319e-01, 3.62053692e-01],\n",
       "       [2.53362112e-01, 2.15326670e-01],\n",
       "       [1.29125778e-01, 8.53751357e-02],\n",
       "       [4.93566297e-02, 2.53878693e-02],\n",
       "       [1.50927378e-02, 6.03964048e-03],\n",
       "       [3.84600029e-03, 1.19733224e-03],\n",
       "       [8.40047432e-04, 2.03456455e-04],\n",
       "       [1.60548539e-04, 3.02507624e-05]])"
      ]
     },
     "execution_count": 229,
     "metadata": {},
     "output_type": "execute_result"
    }
   ],
   "source": [
    "poisson_proba = np.column_stack([[poisson.pmf(i, mydict['2017'].mean()[j]) for i in range(9)] for j in [4,5]]) # prends 2 numpy object et les met en colonnes\n",
    "poisson_proba"
   ]
  },
  {
   "cell_type": "code",
   "execution_count": 230,
   "metadata": {},
   "outputs": [
    {
     "data": {
      "image/png": "[encoded data removed]",
      "text/plain": [
       "<Figure size 792x504 with 1 Axes>"
      ]
     },
     "metadata": {},
     "output_type": "display_data"
    }
   ],
   "source": [
    "# histogramme des buts marqués :\n",
    "plt.hist(mydict['2017'][['score_a', 'score_b']].values, range(9), alpha=0.6, label=['Domicile', 'Extérieur'],\n",
    "         density=True, color=[\"darkblue\", \"darkorange\"])\n",
    "# ajouter les lignes pour les probabilités des lois de Poisson :\n",
    "poisson_dom, = plt.plot([i-0.5 for i in range(1,10)], poisson_proba[:,0],\n",
    "                  linestyle='-', marker='D',label=\"Domicile\", color = 'green')\n",
    "poisson_ext, = plt.plot([i-0.5 for i in range(1,10)], poisson_proba[:,1],\n",
    "                  linestyle='-', marker='D',label=\"Extérieur\", color = 'red')\n",
    "# légende :\n",
    "leg=plt.legend(loc='upper right', fontsize=13, ncol=2)\n",
    "leg.set_title(\"Poisson     Observations\", prop = {'size':'14', 'weight':'bold'})\n",
    "plt.xticks([i-0.5 for i in range(1,10)],[i for i in range(9)])\n",
    "plt.xlabel(\"Buts par match\",size=15)\n",
    "plt.ylabel(\"Fréquence/proportion de matches\",size=15)\n",
    "plt.ylim([-0.005, 0.4])\n",
    "plt.tight_layout()\n",
    "plt.show()"
   ]
  },
  {
   "cell_type": "markdown",
   "metadata": {},
   "source": [
    "Le graphique se lit comme suit : on observe que l'équipe à domicile inscrit excatement un but dans près de 25% des matches, et que l'équipe à l'extérieur inscrit excatement un but dans près de 30% des matches. Ces fréquences observées sont ensuite à comparer avec les probabilités issues des lois de Poisson. D'après les lois de Poisson utilisées, la probabilité que l'équipe à domicile inscrive exactement un but est d'environ 22%, et d'environ 30% pour l'équipe à l'extérieur. On voit donc que les probabilités générées avec la loi de Poisson suivent assez fidèlement les fréquences observées. Notamment, le croisement entre les deux courbes se fait bien entre 1 et 2 buts.\n",
    "\n",
    "La loi de Poisson semble adaptée à la modélisation du nombre de buts par match, donc à la modélisation du score d'un match et finalement à la prédiction de l'issue d'un match. C'est ce que nous allons maintenant étudier. Une première option consisterait à ré-effectuer les calculs ci-dessus mais pour chaque équipe selon qu'elle joue à domicile ou à l'extérieur (on aurait donc \"deux $\\lambda$\" par équipe), puis à calculer les probabilités associées à des évènements spécifiques. Par exemple, supposons que l'on cherche à calculer la probabilité que le PSG gagne le prochain classico au Parc de Princes. On note $V$ la variable aléatoire représentant le nombre buts inscrits par le PSG à domicile et W la variable aléatoire représentant le nombre buts inscrits par l'OM à l'extérieur. En supposant que $V$ et $W$ sont indépendantes (et qu'aucune des deux équipes ne peut marquer plus de 8 buts), la probabilité que le PSG gagne est alors donnée par :\n",
    "\n",
    "$P('Le~PSG~gagne') = P(V = 1) \\times P(W=0) + P(V=2) \\times P(W=0) + P(V=2) \\times P(W=1) + \\ldots + P(V=8) \\times P(W=7) $\n",
    "\n",
    "Bien qu'utile, un modèle basé uniquement sur les probabaiblités issues d'une loi de Poisson présente des limites. D'abord, les probabilités associées à la variable aléatoire $V$ seraient les mêmes quel que soit l'adversaire affronté par le PSG. Ainsi, la probabilité que Paris inscrive, par exemple, deux buts sera la même face à l'OM et face à Amiens (tous mes respects au Amiens SC). De plus, une telle modélisation n'intégrant aucune variable explicative, son pouvoir explicatif et prédictif s'en retrouve très amoindri. Pour faire face à ces écueils, nous construisons un modèle de régression de Poisson. Les regressions de Poisson sont un cas particulier des modèles linéaires dit généralisés (GLM). Sans entrer dans les détails, ce type de modélisation permet de traiter les cas ou les caractéristiques de la variable modélisée ne satisfont pas les hypothèses sous-jacentes d'un modèle linéaire classique (variable expliquée continue, normalité des résidus, homoscédasticité etc.). La modélisation du nombre de buts par match correspond typiquement à un des cas où l'utilisation d'un modèle linéaire \"classique\" n'est pas appropriée.\n",
    "\n",
    "Nous commençons donc par construire les variables explicatives dont nous allons avoir besoin. Les modèles utilisés en pratique par les bookmakers incluent un grand nombre de variables telles que la forme actuelle de l'équipe, le nombre de blessés, la qualité de l'entraîneur, la qualité de l'effectif etc. Parmi ces variables, la seule que nous pouvons construire est la forme actuelle de l'équipe. Celle-ci va correspondre au nombre de buts inscrits lors des 5 derniers matches."
   ]
  },
  {
   "cell_type": "code",
   "execution_count": 259,
   "metadata": {
    "scrolled": true
   },
   "outputs": [
    {
     "name": "stdout",
     "output_type": "stream",
     "text": [
      "dict_keys(['Amiens', 'Angers', 'Bordeaux', 'Caen', 'Dijon', 'Guingamp', 'Lille', 'Lyon', 'Marseille', 'Metz', 'Monaco', 'Montpellier', 'Nantes', 'Nice', 'Paris SG', 'Rennes', 'St Etienne', 'Strasbourg', 'Toulouse', 'Troyes'])\n"
     ]
    }
   ],
   "source": [
    "# Créer un dictionnaire pour les buts inscrits par match pour chaque équipe :\n",
    "goals = {}\n",
    "for team in sorted(mydict['2017'].team_a) :    \n",
    "    goals[team] = None\n",
    "print(goals.keys())\n",
    "# Remplit le dicionnaire :\n",
    "for team in goals.keys() :\n",
    "    buts = []\n",
    "    for i in range(0,mydict['2017'].shape[0]) :\n",
    "        if mydict['2017'].team_a.iloc[i] == team :\n",
    "            buts.append(mydict['2017'].score_a.iloc[i])\n",
    "        elif mydict['2017'].team_b.iloc[i] == team :\n",
    "            buts.append(mydict['2017'].score_b.iloc[i])\n",
    "        else :\n",
    "            pass\n",
    "        goals[team] = buts\n",
    "# Créer un dictionnaire distinct pour la forme de chaque équipe\n",
    "forme = {}\n",
    "for team in sorted(mydict['2017'].team_a) :    \n",
    "    forme[team] = None\n",
    "# Remplis le dict en transformant la liste des buts en liste des buts sur les 5 derniers matchs disputés\n",
    "for team in goals.keys() :\n",
    "# Pour les 5 premiers matches, nous sommes contraints de calculer la forme comme étant :\n",
    "    forme[team] = [0,sum(goals[team][0:1]),sum(goals[team][0:2]),sum(goals[team][0:3]),sum(goals[team][0:4])] \n",
    "# Pour les autres, on peut la calculer avec une boucle :\n",
    "    for i in range(5, len(goals[team])) :\n",
    "        forme[team].append(sum(goals[team][(i-5):i]))"
   ]
  },
  {
   "cell_type": "code",
   "execution_count": 260,
   "metadata": {},
   "outputs": [
    {
     "data": {
      "text/plain": [
       "array([[ 2,  0],\n",
       "       [ 3,  2],\n",
       "       [ 6,  5],\n",
       "       [ 3, 11],\n",
       "       [ 5, 14],\n",
       "       [ 2, 19],\n",
       "       [ 0, 19],\n",
       "       [ 6, 16],\n",
       "       [ 2, 16],\n",
       "       [ 2, 15],\n",
       "       [ 3, 12],\n",
       "       [ 5, 13],\n",
       "       [ 4, 18],\n",
       "       [ 2, 16],\n",
       "       [ 2, 16],\n",
       "       [ 1, 16],\n",
       "       [ 3, 14],\n",
       "       [ 4, 12],\n",
       "       [ 3, 12],\n",
       "       [ 1, 13],\n",
       "       [ 8, 12],\n",
       "       [ 1, 19],\n",
       "       [ 4, 17],\n",
       "       [ 3, 17],\n",
       "       [ 1, 17],\n",
       "       [ 5, 17],\n",
       "       [ 3, 14],\n",
       "       [ 2, 16],\n",
       "       [ 5, 14],\n",
       "       [ 2, 16],\n",
       "       [ 2, 17],\n",
       "       [ 1, 14],\n",
       "       [ 7, 12],\n",
       "       [ 1, 17],\n",
       "       [ 2, 13],\n",
       "       [ 2, 13],\n",
       "       [ 0, 13],\n",
       "       [ 0, 12]], dtype=int64)"
      ]
     },
     "execution_count": 260,
     "metadata": {},
     "output_type": "execute_result"
    }
   ],
   "source": [
    "# On vérifie la cohérence :\n",
    "np.column_stack([goals['Paris SG'], forme['Paris SG']])"
   ]
  },
  {
   "cell_type": "code",
   "execution_count": null,
   "metadata": {},
   "outputs": [],
   "source": [
    "'''temp_bis['forme'] = [item for sublist in forme.values() for item in sublist]\n",
    "temp_bis.sort_values(['team_a','team_b'])'''"
   ]
  },
  {
   "cell_type": "code",
   "execution_count": 355,
   "metadata": {},
   "outputs": [],
   "source": [
    "# On construit le \"tableau\" qui sera utilisé pour la régression\n",
    "final = pd.DataFrame()\n",
    "for team in goals.keys() :\n",
    "    temp1 = mydict['2017'][(mydict['2017'].team_a == team)][['date','team_a','team_b','score_a']].assign(\n",
    "        dom = 1).rename(columns={'team_a':'equipe', 'team_b':'adversaire','score_a':'buts'})\n",
    "    temp2 = mydict['2017'][(mydict['2017'].team_b == team)][['date','team_b','team_a','score_b']].assign(\n",
    "        dom = 0).rename(columns={'team_b':'equipe', 'team_a':'adversaire','score_b':'buts'})\n",
    "    temp3 = pd.concat([temp1,temp2])\n",
    "    temp3.sort_values('date', inplace = True)\n",
    "    temp3['forme'] = forme[team]\n",
    "    final = pd.concat([final,temp3])"
   ]
  },
  {
   "cell_type": "code",
   "execution_count": 296,
   "metadata": {},
   "outputs": [
    {
     "data": {
      "text/html": [
       "<table class=\"simpletable\">\n",
       "<caption>Generalized Linear Model Regression Results</caption>\n",
       "<tr>\n",
       "  <th>Dep. Variable:</th>         <td>buts</td>       <th>  No. Observations:  </th>  <td>   760</td> \n",
       "</tr>\n",
       "<tr>\n",
       "  <th>Model:</th>                  <td>GLM</td>       <th>  Df Residuals:      </th>  <td>   719</td> \n",
       "</tr>\n",
       "<tr>\n",
       "  <th>Model Family:</th>         <td>Poisson</td>     <th>  Df Model:          </th>  <td>    40</td> \n",
       "</tr>\n",
       "<tr>\n",
       "  <th>Link Function:</th>          <td>log</td>       <th>  Scale:             </th> <td>  1.0000</td>\n",
       "</tr>\n",
       "<tr>\n",
       "  <th>Method:</th>                <td>IRLS</td>       <th>  Log-Likelihood:    </th> <td> -1043.4</td>\n",
       "</tr>\n",
       "<tr>\n",
       "  <th>Date:</th>            <td>Sun, 03 Nov 2019</td> <th>  Deviance:          </th> <td>  742.71</td>\n",
       "</tr>\n",
       "<tr>\n",
       "  <th>Time:</th>                <td>17:49:59</td>     <th>  Pearson chi2:      </th>  <td>  634.</td> \n",
       "</tr>\n",
       "<tr>\n",
       "  <th>No. Iterations:</th>          <td>5</td>        <th>                     </th>     <td> </td>   \n",
       "</tr>\n",
       "<tr>\n",
       "  <th>Covariance Type:</th>     <td>nonrobust</td>    <th>                     </th>     <td> </td>   \n",
       "</tr>\n",
       "</table>\n",
       "<table class=\"simpletable\">\n",
       "<tr>\n",
       "              <td></td>                 <th>coef</th>     <th>std err</th>      <th>z</th>      <th>P>|z|</th>  <th>[0.025</th>    <th>0.975]</th>  \n",
       "</tr>\n",
       "<tr>\n",
       "  <th>Intercept</th>                 <td>   -0.3597</td> <td>    0.234</td> <td>   -1.535</td> <td> 0.125</td> <td>   -0.819</td> <td>    0.100</td>\n",
       "</tr>\n",
       "<tr>\n",
       "  <th>equipe[T.Angers]</th>          <td>    0.1432</td> <td>    0.226</td> <td>    0.634</td> <td> 0.526</td> <td>   -0.299</td> <td>    0.586</td>\n",
       "</tr>\n",
       "<tr>\n",
       "  <th>equipe[T.Bordeaux]</th>        <td>    0.3755</td> <td>    0.215</td> <td>    1.748</td> <td> 0.080</td> <td>   -0.046</td> <td>    0.797</td>\n",
       "</tr>\n",
       "<tr>\n",
       "  <th>equipe[T.Caen]</th>            <td>   -0.3141</td> <td>    0.254</td> <td>   -1.239</td> <td> 0.215</td> <td>   -0.811</td> <td>    0.183</td>\n",
       "</tr>\n",
       "<tr>\n",
       "  <th>equipe[T.Dijon]</th>           <td>    0.4457</td> <td>    0.214</td> <td>    2.081</td> <td> 0.037</td> <td>    0.026</td> <td>    0.865</td>\n",
       "</tr>\n",
       "<tr>\n",
       "  <th>equipe[T.Guingamp]</th>        <td>    0.2860</td> <td>    0.219</td> <td>    1.304</td> <td> 0.192</td> <td>   -0.144</td> <td>    0.716</td>\n",
       "</tr>\n",
       "<tr>\n",
       "  <th>equipe[T.Lille]</th>           <td>    0.1307</td> <td>    0.227</td> <td>    0.576</td> <td> 0.565</td> <td>   -0.314</td> <td>    0.576</td>\n",
       "</tr>\n",
       "<tr>\n",
       "  <th>equipe[T.Lyon]</th>            <td>    0.9025</td> <td>    0.206</td> <td>    4.386</td> <td> 0.000</td> <td>    0.499</td> <td>    1.306</td>\n",
       "</tr>\n",
       "<tr>\n",
       "  <th>equipe[T.Marseille]</th>       <td>    0.8158</td> <td>    0.206</td> <td>    3.965</td> <td> 0.000</td> <td>    0.413</td> <td>    1.219</td>\n",
       "</tr>\n",
       "<tr>\n",
       "  <th>equipe[T.Metz]</th>            <td>   -0.0507</td> <td>    0.238</td> <td>   -0.213</td> <td> 0.831</td> <td>   -0.517</td> <td>    0.415</td>\n",
       "</tr>\n",
       "<tr>\n",
       "  <th>equipe[T.Monaco]</th>          <td>    0.8820</td> <td>    0.207</td> <td>    4.265</td> <td> 0.000</td> <td>    0.477</td> <td>    1.287</td>\n",
       "</tr>\n",
       "<tr>\n",
       "  <th>equipe[T.Montpellier]</th>     <td>   -0.0369</td> <td>    0.234</td> <td>   -0.158</td> <td> 0.875</td> <td>   -0.496</td> <td>    0.422</td>\n",
       "</tr>\n",
       "<tr>\n",
       "  <th>equipe[T.Nantes]</th>          <td>   -0.0283</td> <td>    0.234</td> <td>   -0.121</td> <td> 0.904</td> <td>   -0.487</td> <td>    0.431</td>\n",
       "</tr>\n",
       "<tr>\n",
       "  <th>equipe[T.Nice]</th>            <td>    0.3819</td> <td>    0.215</td> <td>    1.776</td> <td> 0.076</td> <td>   -0.040</td> <td>    0.803</td>\n",
       "</tr>\n",
       "<tr>\n",
       "  <th>equipe[T.Paris SG]</th>        <td>    1.1307</td> <td>    0.214</td> <td>    5.280</td> <td> 0.000</td> <td>    0.711</td> <td>    1.550</td>\n",
       "</tr>\n",
       "<tr>\n",
       "  <th>equipe[T.Rennes]</th>          <td>    0.3145</td> <td>    0.218</td> <td>    1.446</td> <td> 0.148</td> <td>   -0.112</td> <td>    0.741</td>\n",
       "</tr>\n",
       "<tr>\n",
       "  <th>equipe[T.St Etienne]</th>      <td>    0.2542</td> <td>    0.220</td> <td>    1.155</td> <td> 0.248</td> <td>   -0.177</td> <td>    0.686</td>\n",
       "</tr>\n",
       "<tr>\n",
       "  <th>equipe[T.Strasbourg]</th>      <td>    0.2060</td> <td>    0.224</td> <td>    0.922</td> <td> 0.357</td> <td>   -0.232</td> <td>    0.644</td>\n",
       "</tr>\n",
       "<tr>\n",
       "  <th>equipe[T.Toulouse]</th>        <td>    0.0387</td> <td>    0.231</td> <td>    0.167</td> <td> 0.867</td> <td>   -0.414</td> <td>    0.492</td>\n",
       "</tr>\n",
       "<tr>\n",
       "  <th>equipe[T.Troyes]</th>          <td>   -0.1318</td> <td>    0.242</td> <td>   -0.545</td> <td> 0.585</td> <td>   -0.605</td> <td>    0.342</td>\n",
       "</tr>\n",
       "<tr>\n",
       "  <th>adversaire[T.Angers]</th>      <td>    0.2210</td> <td>    0.208</td> <td>    1.064</td> <td> 0.287</td> <td>   -0.186</td> <td>    0.628</td>\n",
       "</tr>\n",
       "<tr>\n",
       "  <th>adversaire[T.Bordeaux]</th>    <td>    0.1584</td> <td>    0.212</td> <td>    0.748</td> <td> 0.455</td> <td>   -0.257</td> <td>    0.574</td>\n",
       "</tr>\n",
       "<tr>\n",
       "  <th>adversaire[T.Caen]</th>        <td>    0.2009</td> <td>    0.208</td> <td>    0.968</td> <td> 0.333</td> <td>   -0.206</td> <td>    0.608</td>\n",
       "</tr>\n",
       "<tr>\n",
       "  <th>adversaire[T.Dijon]</th>       <td>    0.5707</td> <td>    0.194</td> <td>    2.943</td> <td> 0.003</td> <td>    0.191</td> <td>    0.951</td>\n",
       "</tr>\n",
       "<tr>\n",
       "  <th>adversaire[T.Guingamp]</th>    <td>    0.3491</td> <td>    0.202</td> <td>    1.727</td> <td> 0.084</td> <td>   -0.047</td> <td>    0.745</td>\n",
       "</tr>\n",
       "<tr>\n",
       "  <th>adversaire[T.Lille]</th>       <td>    0.4795</td> <td>    0.197</td> <td>    2.430</td> <td> 0.015</td> <td>    0.093</td> <td>    0.866</td>\n",
       "</tr>\n",
       "<tr>\n",
       "  <th>adversaire[T.Lyon]</th>        <td>    0.0796</td> <td>    0.217</td> <td>    0.366</td> <td> 0.714</td> <td>   -0.346</td> <td>    0.506</td>\n",
       "</tr>\n",
       "<tr>\n",
       "  <th>adversaire[T.Marseille]</th>   <td>    0.1584</td> <td>    0.213</td> <td>    0.745</td> <td> 0.456</td> <td>   -0.258</td> <td>    0.575</td>\n",
       "</tr>\n",
       "<tr>\n",
       "  <th>adversaire[T.Metz]</th>        <td>    0.5958</td> <td>    0.193</td> <td>    3.094</td> <td> 0.002</td> <td>    0.218</td> <td>    0.973</td>\n",
       "</tr>\n",
       "<tr>\n",
       "  <th>adversaire[T.Monaco]</th>      <td>    0.1193</td> <td>    0.215</td> <td>    0.555</td> <td> 0.579</td> <td>   -0.302</td> <td>    0.540</td>\n",
       "</tr>\n",
       "<tr>\n",
       "  <th>adversaire[T.Montpellier]</th> <td>   -0.2349</td> <td>    0.233</td> <td>   -1.008</td> <td> 0.313</td> <td>   -0.692</td> <td>    0.222</td>\n",
       "</tr>\n",
       "<tr>\n",
       "  <th>adversaire[T.Nantes]</th>      <td>   -0.0216</td> <td>    0.220</td> <td>   -0.098</td> <td> 0.922</td> <td>   -0.452</td> <td>    0.409</td>\n",
       "</tr>\n",
       "<tr>\n",
       "  <th>adversaire[T.Nice]</th>        <td>    0.2373</td> <td>    0.208</td> <td>    1.141</td> <td> 0.254</td> <td>   -0.170</td> <td>    0.645</td>\n",
       "</tr>\n",
       "<tr>\n",
       "  <th>adversaire[T.Paris SG]</th>    <td>   -0.2883</td> <td>    0.242</td> <td>   -1.190</td> <td> 0.234</td> <td>   -0.763</td> <td>    0.186</td>\n",
       "</tr>\n",
       "<tr>\n",
       "  <th>adversaire[T.Rennes]</th>      <td>    0.0587</td> <td>    0.216</td> <td>    0.272</td> <td> 0.786</td> <td>   -0.365</td> <td>    0.482</td>\n",
       "</tr>\n",
       "<tr>\n",
       "  <th>adversaire[T.St Etienne]</th>  <td>    0.1860</td> <td>    0.210</td> <td>    0.888</td> <td> 0.375</td> <td>   -0.225</td> <td>    0.597</td>\n",
       "</tr>\n",
       "<tr>\n",
       "  <th>adversaire[T.Strasbourg]</th>  <td>    0.4823</td> <td>    0.197</td> <td>    2.445</td> <td> 0.014</td> <td>    0.096</td> <td>    0.869</td>\n",
       "</tr>\n",
       "<tr>\n",
       "  <th>adversaire[T.Toulouse]</th>    <td>    0.2529</td> <td>    0.206</td> <td>    1.228</td> <td> 0.219</td> <td>   -0.151</td> <td>    0.657</td>\n",
       "</tr>\n",
       "<tr>\n",
       "  <th>adversaire[T.Troyes]</th>      <td>    0.3376</td> <td>    0.202</td> <td>    1.671</td> <td> 0.095</td> <td>   -0.058</td> <td>    0.734</td>\n",
       "</tr>\n",
       "<tr>\n",
       "  <th>dom</th>                       <td>    0.2487</td> <td>    0.063</td> <td>    3.960</td> <td> 0.000</td> <td>    0.126</td> <td>    0.372</td>\n",
       "</tr>\n",
       "<tr>\n",
       "  <th>forme</th>                     <td>   -0.0074</td> <td>    0.010</td> <td>   -0.718</td> <td> 0.473</td> <td>   -0.028</td> <td>    0.013</td>\n",
       "</tr>\n",
       "</table>"
      ],
      "text/plain": [
       "<class 'statsmodels.iolib.summary.Summary'>\n",
       "\"\"\"\n",
       "                 Generalized Linear Model Regression Results                  \n",
       "==============================================================================\n",
       "Dep. Variable:                   buts   No. Observations:                  760\n",
       "Model:                            GLM   Df Residuals:                      719\n",
       "Model Family:                 Poisson   Df Model:                           40\n",
       "Link Function:                    log   Scale:                          1.0000\n",
       "Method:                          IRLS   Log-Likelihood:                -1043.4\n",
       "Date:                Sun, 03 Nov 2019   Deviance:                       742.71\n",
       "Time:                        17:49:59   Pearson chi2:                     634.\n",
       "No. Iterations:                     5                                         \n",
       "Covariance Type:            nonrobust                                         \n",
       "=============================================================================================\n",
       "                                coef    std err          z      P>|z|      [0.025      0.975]\n",
       "---------------------------------------------------------------------------------------------\n",
       "Intercept                    -0.3597      0.234     -1.535      0.125      -0.819       0.100\n",
       "equipe[T.Angers]              0.1432      0.226      0.634      0.526      -0.299       0.586\n",
       "equipe[T.Bordeaux]            0.3755      0.215      1.748      0.080      -0.046       0.797\n",
       "equipe[T.Caen]               -0.3141      0.254     -1.239      0.215      -0.811       0.183\n",
       "equipe[T.Dijon]               0.4457      0.214      2.081      0.037       0.026       0.865\n",
       "equipe[T.Guingamp]            0.2860      0.219      1.304      0.192      -0.144       0.716\n",
       "equipe[T.Lille]               0.1307      0.227      0.576      0.565      -0.314       0.576\n",
       "equipe[T.Lyon]                0.9025      0.206      4.386      0.000       0.499       1.306\n",
       "equipe[T.Marseille]           0.8158      0.206      3.965      0.000       0.413       1.219\n",
       "equipe[T.Metz]               -0.0507      0.238     -0.213      0.831      -0.517       0.415\n",
       "equipe[T.Monaco]              0.8820      0.207      4.265      0.000       0.477       1.287\n",
       "equipe[T.Montpellier]        -0.0369      0.234     -0.158      0.875      -0.496       0.422\n",
       "equipe[T.Nantes]             -0.0283      0.234     -0.121      0.904      -0.487       0.431\n",
       "equipe[T.Nice]                0.3819      0.215      1.776      0.076      -0.040       0.803\n",
       "equipe[T.Paris SG]            1.1307      0.214      5.280      0.000       0.711       1.550\n",
       "equipe[T.Rennes]              0.3145      0.218      1.446      0.148      -0.112       0.741\n",
       "equipe[T.St Etienne]          0.2542      0.220      1.155      0.248      -0.177       0.686\n",
       "equipe[T.Strasbourg]          0.2060      0.224      0.922      0.357      -0.232       0.644\n",
       "equipe[T.Toulouse]            0.0387      0.231      0.167      0.867      -0.414       0.492\n",
       "equipe[T.Troyes]             -0.1318      0.242     -0.545      0.585      -0.605       0.342\n",
       "adversaire[T.Angers]          0.2210      0.208      1.064      0.287      -0.186       0.628\n",
       "adversaire[T.Bordeaux]        0.1584      0.212      0.748      0.455      -0.257       0.574\n",
       "adversaire[T.Caen]            0.2009      0.208      0.968      0.333      -0.206       0.608\n",
       "adversaire[T.Dijon]           0.5707      0.194      2.943      0.003       0.191       0.951\n",
       "adversaire[T.Guingamp]        0.3491      0.202      1.727      0.084      -0.047       0.745\n",
       "adversaire[T.Lille]           0.4795      0.197      2.430      0.015       0.093       0.866\n",
       "adversaire[T.Lyon]            0.0796      0.217      0.366      0.714      -0.346       0.506\n",
       "adversaire[T.Marseille]       0.1584      0.213      0.745      0.456      -0.258       0.575\n",
       "adversaire[T.Metz]            0.5958      0.193      3.094      0.002       0.218       0.973\n",
       "adversaire[T.Monaco]          0.1193      0.215      0.555      0.579      -0.302       0.540\n",
       "adversaire[T.Montpellier]    -0.2349      0.233     -1.008      0.313      -0.692       0.222\n",
       "adversaire[T.Nantes]         -0.0216      0.220     -0.098      0.922      -0.452       0.409\n",
       "adversaire[T.Nice]            0.2373      0.208      1.141      0.254      -0.170       0.645\n",
       "adversaire[T.Paris SG]       -0.2883      0.242     -1.190      0.234      -0.763       0.186\n",
       "adversaire[T.Rennes]          0.0587      0.216      0.272      0.786      -0.365       0.482\n",
       "adversaire[T.St Etienne]      0.1860      0.210      0.888      0.375      -0.225       0.597\n",
       "adversaire[T.Strasbourg]      0.4823      0.197      2.445      0.014       0.096       0.869\n",
       "adversaire[T.Toulouse]        0.2529      0.206      1.228      0.219      -0.151       0.657\n",
       "adversaire[T.Troyes]          0.3376      0.202      1.671      0.095      -0.058       0.734\n",
       "dom                           0.2487      0.063      3.960      0.000       0.126       0.372\n",
       "forme                        -0.0074      0.010     -0.718      0.473      -0.028       0.013\n",
       "=============================================================================================\n",
       "\"\"\""
      ]
     },
     "execution_count": 296,
     "metadata": {},
     "output_type": "execute_result"
    }
   ],
   "source": [
    "# On peut mettre en place la régression\n",
    "modele_poisson = smf.glm(formula = \"buts ~ dom + forme + equipe + adversaire\", data = final, \n",
    "                        family=sm.families.Poisson()).fit()\n",
    "modele_poisson.summary()"
   ]
  },
  {
   "cell_type": "markdown",
   "metadata": {},
   "source": [
    "Plusieurs remarques peuvent être faites sur les résultats du modèle. D'abord, notons que parmi les 4 variables explicatives de notre modèle, 2 sont des variables qualitatives (*equipe* et *adversaire*) prenant 38 valeurs différentes. Les inclure dans notre modèle revient en fait à estimer une équation de régression à $1+2+38 \\times 2 = 79 $ coefficients (1 pour la constante, les autres pour les variables explicatives), ce qui impacte la qualité de nos estimations au vu de la taille d'échantillon utilisée. Aussi, sachant que la taille de l'échantillon utilisé impacte nécessairement la significativité des coefficients, il est bon de rappeler qu'un coefficient non significatif apporte toujours de l'information quant à la relation étudiée.\n",
    "\n",
    "Ensuite, avant même de considérer la taille et la significativité des coefficients, il est nécessaire d'expliciter la manière dont deux-ci doivent être lus. Comme nous l'avons dit, la regression de Poisson est un cas particulier des modèles linéaires généralisés. Plus précisément, la fonction de lien utilisée dans le cadre d'une régression de Poisson est la fonction logarithme népérien. Ainsi, afin de pouvoir interpréter les coefficients retournés par le logiciel, il est nécessaire de leur appliquer la fonction exponentiel. Par exemple, le coefficient associé à la variable *forme* est égal à $-0.0074$. Lorsqu'on lui applique la fonction exponentiel on obtient $e^{-0.0074} = 0.992$, ce qui signifie qu'en moyenne, pour une hausse égale à 1 de la valeur prise par *forme*, on s'attend à ce que la valeur prise par la variable *buts* soit **multipliée** par 0.992. Autrement dit, plus la valeur d'un coefficient est proche de 0, plus l'effet de la variable explicative associée à ce coefficient est faible. Dans le cas de la variable *forme*, le coefficient associé est non significativement différent de zéro, il est donc impossible de conclure quant à l'influence de la variable *forme* sur le nombre de buts inscrits. Ce résultat suprenant (on s'attendrait en effet à avoir un impact significativement positif de la forme sur le nombre de buts inscrits) peut s'expliquer par le fait que notre mesure de la forme est une mesure en moyenne, mais aussi par le fait que notre mesure est imparfaite (l'historique des 5 derniers matches disputés est peut-être trop restreint ou trop vaste, la forme est peut-être avant tout capturée par la qualité du jeu *etc*.).\n",
    "\n",
    "Concernant les autres coefficients de la régression, on voit que la variable *dom* a un impact significativement positif ($e^{0.2487} = 1.3$), ce qui était attendu et corrobore les observations précédemment réalisées. De même, on voit que les coefficients associés à Lyon, Marseille ou le PSG sont positifs pour ce qui est de la variable *equipe* (ces formations marquent en moyenne plus de buts que les autres), mais négatifs (bien que non significatifs) lorsque que l'on considère la variable *adversaire* (il est en moyenne plus difficile de percer les défenses de ces équipes)."
   ]
  }
 ],
 "metadata": {
  "kernelspec": {
   "display_name": "Python 3",
   "language": "python",
   "name": "python3"
  },
  "language_info": {
   "codemirror_mode": {
    "name": "ipython",
    "version": 3
   },
   "file_extension": ".py",
   "mimetype": "text/x-python",
   "name": "python",
   "nbconvert_exporter": "python",
   "pygments_lexer": "ipython3",
   "version": "3.7.3"
  }
 },
 "nbformat": 4,
 "nbformat_minor": 2
}
